{
 "cells": [
  {
   "cell_type": "code",
   "execution_count": 1,
   "metadata": {},
   "outputs": [
    {
     "name": "stdout",
     "output_type": "stream",
     "text": [
      "Requirement already satisfied: splinter in c:\\users\\java\\anaconda3\\lib\\site-packages\n",
      "Requirement already satisfied: selenium>=2.53.6 in c:\\users\\java\\anaconda3\\lib\\site-packages (from splinter)\n"
     ]
    }
   ],
   "source": [
    "import requests\n",
    "from bs4 import BeautifulSoup\n",
    "!pip install splinter"
   ]
  },
  {
   "cell_type": "code",
   "execution_count": 2,
   "metadata": {
    "collapsed": true
   },
   "outputs": [],
   "source": [
    "import json\n",
    "import os"
   ]
  },
  {
   "cell_type": "code",
   "execution_count": 3,
   "metadata": {
    "collapsed": true
   },
   "outputs": [],
   "source": [
    "import pymongo\n",
    "from pymongo import MongoClient"
   ]
  },
  {
   "cell_type": "code",
   "execution_count": 4,
   "metadata": {
    "collapsed": true
   },
   "outputs": [],
   "source": [
    "client = MongoClient('localhost', 27017)\n",
    "db = client.KyotoImage\n",
    "collection = db.bridge"
   ]
  },
  {
   "cell_type": "code",
   "execution_count": 5,
   "metadata": {
    "collapsed": true
   },
   "outputs": [],
   "source": [
    "import datetime\n",
    "KyotoImageList = {}"
   ]
  },
  {
   "cell_type": "code",
   "execution_count": 6,
   "metadata": {},
   "outputs": [
    {
     "ename": "SyntaxError",
     "evalue": "unexpected EOF while parsing (<ipython-input-6-c7edde8da235>, line 4)",
     "output_type": "error",
     "traceback": [
      "\u001b[1;36m  File \u001b[1;32m\"<ipython-input-6-c7edde8da235>\"\u001b[1;36m, line \u001b[1;32m4\u001b[0m\n\u001b[1;33m    \"filename\": fname\u001b[0m\n\u001b[1;37m                     ^\u001b[0m\n\u001b[1;31mSyntaxError\u001b[0m\u001b[1;31m:\u001b[0m unexpected EOF while parsing\n"
     ]
    }
   ],
   "source": [
    "KyotoImageList = {\"location\": \"渡月橋\",\n",
    "         \"filelocation\": filelocation,\n",
    "         \"tags\": \"渡月橋\",\n",
    "         \"filename\": fname"
   ]
  },
  {
   "cell_type": "code",
   "execution_count": null,
   "metadata": {
    "collapsed": true
   },
   "outputs": [],
   "source": []
  },
  {
   "cell_type": "code",
   "execution_count": 2,
   "metadata": {},
   "outputs": [
    {
     "ename": "SyntaxError",
     "evalue": "invalid syntax (<ipython-input-2-4c02db7f31a9>, line 29)",
     "output_type": "error",
     "traceback": [
      "\u001b[1;36m  File \u001b[1;32m\"<ipython-input-2-4c02db7f31a9>\"\u001b[1;36m, line \u001b[1;32m29\u001b[0m\n\u001b[1;33m    KyotoImageList = {\"location\": \"渡月橋\",\"filelocation\": filelocation,\"tags\": \"渡月橋\",{{\"filename\": fname},{unique = true}}\u001b[0m\n\u001b[1;37m                                                                                                                ^\u001b[0m\n\u001b[1;31mSyntaxError\u001b[0m\u001b[1;31m:\u001b[0m invalid syntax\n"
     ]
    }
   ],
   "source": [
    "import shutil # 把資料copy到檔案裡\n",
    "\n",
    "               \n",
    "for i in range(1,101):\n",
    "    \n",
    "    url = \"https://api.flickr.com/services/rest?sort=relevance&parse_tags=1&content_type=7&extras=can_comment%2Ccount_comments%2Ccount_faves%2Cdescription%2Cisfavorite%2Clicense%2Cmedia%2Cneeds_interstitial%2Cowner_name%2Cpath_alias%2Crealname%2Crotation%2Curl_c%2Curl_l%2Curl_m%2Curl_n%2Curl_q%2Curl_s%2Curl_sq%2Curl_t%2Curl_z&per_page=100&page={}&lang=zh-Hant-HK&text={}&viewerNSID=&method=flickr.photos.search&csrf=&api_key=6f1ca1bbd4ff5edc65dcd12e6040384e&format=json&hermes=1&hermesClient=1&reqId=c40b0214&nojsoncallback=1\".format(i,\"渡月橋\")\n",
    "    res = requests.get(url)\n",
    "    res.text\n",
    "    img_lish = res.json()['photos']['photo']\n",
    "    imgurl=[]\n",
    "    \n",
    "    for image in img_lish:\n",
    "        try:\n",
    "            image['url_m_cdn']\n",
    "            imgurl.append(image['url_m_cdn'])\n",
    "        except:\n",
    "            pass\n",
    "    for img in imgurl:\n",
    "        try:\n",
    "            fname = img.split(\"/\")[-1]\n",
    "            print(fname)\n",
    "            imgsave = requests.get(img, stream = True) \n",
    "            filelocation = \"D:\\Project_Image\\渡月橋\\{}\".format(fname)\n",
    "            f = open(filelocation, 'wb') # 創建檔案，並且用w binary的方法寫入\n",
    "            shutil.copyfileobj(imgsave.raw, f) # 將imgsave裡的資料by raw copy到檔案f之中\n",
    "            f.close # 關閉檔案\n",
    "            del imgsave # 把暫存資料清空\n",
    "            \n",
    "            KyotoImageList = {\"location\": \"渡月橋\",\"filelocation\": filelocation,\"tags\": \"渡月橋\",{{\"filename\": fname},{unique = true}}\n",
    "            db.bridge.insert_one(KyotoImageList)   \n",
    "            \n",
    "            db.members.createIndex( { \"user_id\": 1 }, { unique: true } )\n",
    "        except:\n",
    "            pass"
   ]
  },
  {
   "cell_type": "code",
   "execution_count": null,
   "metadata": {
    "collapsed": true
   },
   "outputs": [],
   "source": []
  },
  {
   "cell_type": "code",
   "execution_count": null,
   "metadata": {
    "collapsed": true
   },
   "outputs": [],
   "source": []
  }
 ],
 "metadata": {
  "kernelspec": {
   "display_name": "Python 3",
   "language": "python",
   "name": "python3"
  },
  "language_info": {
   "codemirror_mode": {
    "name": "ipython",
    "version": 3
   },
   "file_extension": ".py",
   "mimetype": "text/x-python",
   "name": "python",
   "nbconvert_exporter": "python",
   "pygments_lexer": "ipython3",
   "version": "3.6.1"
  }
 },
 "nbformat": 4,
 "nbformat_minor": 2
}
