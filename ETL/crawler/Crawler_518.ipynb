{
 "cells": [
  {
   "cell_type": "code",
   "execution_count": 1,
   "metadata": {
    "collapsed": true
   },
   "outputs": [],
   "source": [
    "import re,requests\n",
    "from bs4 import BeautifulSoup\n",
    "from collections import Counter"
   ]
  },
  {
   "cell_type": "code",
   "execution_count": 2,
   "metadata": {},
   "outputs": [
    {
     "data": {
      "text/plain": [
       "19"
      ]
     },
     "execution_count": 2,
     "metadata": {},
     "output_type": "execute_result"
    }
   ],
   "source": [
    "#找出總共有幾頁\n",
    "url = \"https://www.518.com.tw/job-index.html?ad=%E7%A8%8B%E5%BC%8F%E8%A8%AD%E8%A8%88%E5%B8%AB&aa=&ab=&ac=&am=&i=\"\n",
    "res = requests.get(url)\n",
    "soup = BeautifulSoup(res.text,'lxml')\n",
    "totalpage = int(re.findall(\"\\d+頁\",soup.select(\"#bottomOption\")[0].text)[0].split(\"頁\")[0])\n",
    "totalpage"
   ]
  },
  {
   "cell_type": "code",
   "execution_count": 13,
   "metadata": {},
   "outputs": [
    {
     "data": {
      "text/plain": [
       "int"
      ]
     },
     "execution_count": 13,
     "metadata": {},
     "output_type": "execute_result"
    }
   ],
   "source": [
    "#找出每頁有幾個link\n",
    "tlink =soup.select('#listContent > ul > li.title > a')\n",
    "type(len(tlink))"
   ]
  },
  {
   "cell_type": "code",
   "execution_count": 34,
   "metadata": {},
   "outputs": [
    {
     "name": "stdout",
     "output_type": "stream",
     "text": [
      "[('不拘', 214), ('HTML', 44), ('MySQL', 42), ('PHP', 37), ('Java Script', 35), ('MS SQL', 33), ('軟體程式設計', 33), ('CSS', 32), ('網路程式設計', 31), ('AJAX', 28)]\n"
     ]
    }
   ],
   "source": [
    "cnt = Counter()\n",
    "\n",
    "for i in range(1,totalpage+1): #因為page從1開始,所以跑range要+1\n",
    "    url2 = \"https://www.518.com.tw/job-index-P-1.html?i=1&am=1&ad=%E7%A8%8B%E5%BC%8F%E8%A8%AD%E8%A8%88%E5%B8%AB&page={}\".format(i)\n",
    "    res2 = requests.get(url2)\n",
    "    soup2 = BeautifulSoup(res2.text,'lxml')\n",
    "    totallink =soup2.select('#listContent > ul > li.title > a') #找出position link所在的tag\n",
    "    try:\n",
    "        for getlink in range(0,len(totallink)): #算出每頁總共有幾個link並跑for loop\n",
    "            url3 = totallink[getlink]['href']    #得到所有的link\n",
    "            res3 = requests.get(url3)\n",
    "            soup3 = BeautifulSoup(res3.text,'lxml')\n",
    "            pcskill = soup3.select(\"#content > .job-detail-box > dl > dd\")[9].text.strip()\n",
    "            for need in pcskill.split(\"、\"):\n",
    "                if need in cnt:\n",
    "                    cnt[need] += 1\n",
    "                else:\n",
    "                    cnt[need] = 1\n",
    "    except:\n",
    "        pass\n",
    "                \n",
    "print(cnt.most_common(10))\n",
    "    "
   ]
  },
  {
   "cell_type": "code",
   "execution_count": null,
   "metadata": {
    "collapsed": true
   },
   "outputs": [],
   "source": []
  },
  {
   "cell_type": "code",
   "execution_count": null,
   "metadata": {
    "collapsed": true
   },
   "outputs": [],
   "source": []
  }
 ],
 "metadata": {
  "kernelspec": {
   "display_name": "Python 3",
   "language": "python",
   "name": "python3"
  },
  "language_info": {
   "codemirror_mode": {
    "name": "ipython",
    "version": 3
   },
   "file_extension": ".py",
   "mimetype": "text/x-python",
   "name": "python",
   "nbconvert_exporter": "python",
   "pygments_lexer": "ipython3",
   "version": "3.6.1"
  }
 },
 "nbformat": 4,
 "nbformat_minor": 2
}
