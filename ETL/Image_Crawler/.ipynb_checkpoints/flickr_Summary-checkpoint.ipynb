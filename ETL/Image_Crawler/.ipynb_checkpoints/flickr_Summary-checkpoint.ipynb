{
 "cells": [
  {
   "cell_type": "code",
   "execution_count": 96,
   "metadata": {},
   "outputs": [
    {
     "name": "stdout",
     "output_type": "stream",
     "text": [
      "Requirement already satisfied: splinter in c:\\users\\java\\anaconda3\\lib\\site-packages\n",
      "Requirement already satisfied: selenium>=2.53.6 in c:\\users\\java\\anaconda3\\lib\\site-packages (from splinter)\n",
      "Requirement already satisfied: pymongo in c:\\users\\java\\anaconda3\\lib\\site-packages\n"
     ]
    }
   ],
   "source": [
    "!pip install splinter\n",
    "!pip install pymongo\n",
    "import pymongo\n",
    "from bs4 import BeautifulSoup\n",
    "import requests"
   ]
  },
  {
   "cell_type": "code",
   "execution_count": 97,
   "metadata": {
    "collapsed": true
   },
   "outputs": [],
   "source": [
    "import json\n",
    "import os\n",
    "from pymongo import MongoClient\n",
    "import gridfs\n",
    "import shutil # 把資料copy到檔案裡\n",
    "import concurrent.futures\n",
    "db = MongoClient().gridfs_project_image # 創立&連接database"
   ]
  },
  {
   "cell_type": "code",
   "execution_count": 98,
   "metadata": {
    "collapsed": true
   },
   "outputs": [],
   "source": [
    "def cleanwater(api_key,location = \"清水寺\",bucketname = \"cleanwater\"):      \n",
    "    fs = gridfs.GridFS(db, bucketname) # 連接database, 並命名bucket\n",
    "    result = db.fs.create_index([('filename', pymongo.ASCENDING)],unique=True)\n",
    "\n",
    "    for i in range(1,50):    \n",
    "        url = \"https://api.flickr.com/services/rest?sort=relevance&parse_tags=1&content_type=7&extras=can_comment%2Ccount_comments%2Ccount_faves%2Cdescription%2Cisfavorite%2Clicense%2Cmedia%2Cneeds_interstitial%2Cowner_name%2Cpath_alias%2Crealname%2Crotation%2Curl_c%2Curl_l%2Curl_m%2Curl_n%2Curl_q%2Curl_s%2Curl_sq%2Curl_t%2Curl_z&per_page=100&page={}&lang=zh-Hant-HK&text={}&viewerNSID=&method=flickr.photos.search&csrf=&api_key={}&format=json&hermes=1&hermesClient=1&reqId=c40b0214&nojsoncallback=1\".format(i,location,api_key)\n",
    "        res = requests.get(url)\n",
    "        res.text\n",
    "        img_lish = res.json()['photos']['photo']\n",
    "        imgurl=[]\n",
    "\n",
    "        for image in img_lish:\n",
    "            try:\n",
    "                image['url_m_cdn']\n",
    "                imgurl.append(image['url_m_cdn'])\n",
    "            except:\n",
    "                pass\n",
    "        for img in imgurl:\n",
    "            try:\n",
    "                fname = img.split(\"/\")[-1]\n",
    "                print(fname)\n",
    "                imgsave = requests.get(img, stream = True) \n",
    "                a = fs.put(imgsave.raw, filename = fname) # 創建檔案，並且將image寫入\n",
    "                shutil.copyfileobj(imgsave.raw, a) # 將imgsave裡的資料by raw copy到a之中\n",
    "                del imgsave # 把暫存資料清空\n",
    "            except:\n",
    "                pass"
   ]
  },
  {
   "cell_type": "code",
   "execution_count": 99,
   "metadata": {
    "collapsed": true
   },
   "outputs": [],
   "source": [
    "def dragon(api_key,location = \"龍安寺\",bucketname = \"dragon\"):      \n",
    "    fs = gridfs.GridFS(db, bucketname) # 連接database, 並命名bucket\n",
    "    for i in range(1,50):    \n",
    "        url = \"https://api.flickr.com/services/rest?sort=relevance&parse_tags=1&content_type=7&extras=can_comment%2Ccount_comments%2Ccount_faves%2Cdescription%2Cisfavorite%2Clicense%2Cmedia%2Cneeds_interstitial%2Cowner_name%2Cpath_alias%2Crealname%2Crotation%2Curl_c%2Curl_l%2Curl_m%2Curl_n%2Curl_q%2Curl_s%2Curl_sq%2Curl_t%2Curl_z&per_page=100&page={}&lang=zh-Hant-HK&text={}&viewerNSID=&method=flickr.photos.search&csrf=&api_key={}&format=json&hermes=1&hermesClient=1&reqId=c40b0214&nojsoncallback=1\".format(i,location,api_key)\n",
    "        res = requests.get(url)\n",
    "        res.text\n",
    "        img_lish = res.json()['photos']['photo']\n",
    "        imgurl=[]\n",
    "\n",
    "        for image in img_lish:\n",
    "            try:\n",
    "                image['url_m_cdn']\n",
    "                imgurl.append(image['url_m_cdn'])\n",
    "            except:\n",
    "                pass\n",
    "        for img in imgurl:\n",
    "            try:\n",
    "                fname = img.split(\"/\")[-1]\n",
    "                print(fname)\n",
    "                imgsave = requests.get(img, stream = True) \n",
    "                a = fs.put(imgsave.raw, filename = fname) # 創建檔案，並且將image寫入\n",
    "                shutil.copyfileobj(imgsave.raw, a) # 將imgsave裡的資料by raw copy到a之中\n",
    "                del imgsave # 把暫存資料清空\n",
    "            except:\n",
    "                pass"
   ]
  },
  {
   "cell_type": "code",
   "execution_count": 100,
   "metadata": {
    "collapsed": true
   },
   "outputs": [],
   "source": [
    "def bridge(api_key,location = \"渡月橋\",bucketname = \"bridge\"):      \n",
    "    fs = gridfs.GridFS(db, bucketname) # 連接database, 並命名bucket\n",
    "\n",
    "    for i in range(1,50):    \n",
    "        url = \"https://api.flickr.com/services/rest?sort=relevance&parse_tags=1&content_type=7&extras=can_comment%2Ccount_comments%2Ccount_faves%2Cdescription%2Cisfavorite%2Clicense%2Cmedia%2Cneeds_interstitial%2Cowner_name%2Cpath_alias%2Crealname%2Crotation%2Curl_c%2Curl_l%2Curl_m%2Curl_n%2Curl_q%2Curl_s%2Curl_sq%2Curl_t%2Curl_z&per_page=100&page={}&lang=zh-Hant-HK&text={}&viewerNSID=&method=flickr.photos.search&csrf=&api_key={}&format=json&hermes=1&hermesClient=1&reqId=c40b0214&nojsoncallback=1\".format(i,location,api_key)\n",
    "        res = requests.get(url)\n",
    "        res.text\n",
    "        img_lish = res.json()['photos']['photo']\n",
    "        imgurl=[]\n",
    "\n",
    "        for image in img_lish:\n",
    "            try:\n",
    "                image['url_m_cdn']\n",
    "                imgurl.append(image['url_m_cdn'])\n",
    "            except:\n",
    "                pass\n",
    "        for img in imgurl:\n",
    "            try:\n",
    "                fname = img.split(\"/\")[-1]\n",
    "                print(fname)\n",
    "                imgsave = requests.get(img, stream = True) \n",
    "                a = fs.put(imgsave.raw, filename = fname) # 創建檔案，並且將image寫入\n",
    "                shutil.copyfileobj(imgsave.raw, a) # 將imgsave裡的資料by raw copy到a之中\n",
    "                del imgsave # 把暫存資料清空\n",
    "            except:\n",
    "                pass"
   ]
  },
  {
   "cell_type": "code",
   "execution_count": 101,
   "metadata": {
    "collapsed": true
   },
   "outputs": [],
   "source": [
    "def golden(api_key,location = \"金閣寺\",bucketname = \"golden\"):      \n",
    "    fs = gridfs.GridFS(db, bucketname) # 連接database, 並命名bucket\n",
    "    for i in range(1,50):    \n",
    "        url = \"https://api.flickr.com/services/rest?sort=relevance&parse_tags=1&content_type=7&extras=can_comment%2Ccount_comments%2Ccount_faves%2Cdescription%2Cisfavorite%2Clicense%2Cmedia%2Cneeds_interstitial%2Cowner_name%2Cpath_alias%2Crealname%2Crotation%2Curl_c%2Curl_l%2Curl_m%2Curl_n%2Curl_q%2Curl_s%2Curl_sq%2Curl_t%2Curl_z&per_page=100&page={}&lang=zh-Hant-HK&text={}&viewerNSID=&method=flickr.photos.search&csrf=&api_key={}&format=json&hermes=1&hermesClient=1&reqId=c40b0214&nojsoncallback=1\".format(i,location,api_key)\n",
    "        res = requests.get(url)\n",
    "        res.text\n",
    "        img_lish = res.json()['photos']['photo']\n",
    "        imgurl=[]\n",
    "\n",
    "        for image in img_lish:\n",
    "            try:\n",
    "                image['url_m_cdn']\n",
    "                imgurl.append(image['url_m_cdn'])\n",
    "            except:\n",
    "                pass\n",
    "        for img in imgurl:\n",
    "            try:\n",
    "                fname = img.split(\"/\")[-1]\n",
    "                print(fname)\n",
    "                imgsave = requests.get(img, stream = True) \n",
    "                a = fs.put(imgsave.raw, filename = fname) # 創建檔案，並且將image寫入\n",
    "                shutil.copyfileobj(imgsave.raw, a) # 將imgsave裡的資料by raw copy到a之中\n",
    "                del imgsave # 把暫存資料清空\n",
    "            except:\n",
    "                pass"
   ]
  },
  {
   "cell_type": "code",
   "execution_count": 102,
   "metadata": {
    "collapsed": true
   },
   "outputs": [],
   "source": [
    "def kyototower(api_key,location = \"京都塔\",bucketname = \"kyototower\"):      \n",
    "    fs = gridfs.GridFS(db, bucketname) # 連接database, 並命名bucket\n",
    "\n",
    "    for i in range(1,50):    \n",
    "        url = \"https://api.flickr.com/services/rest?sort=relevance&parse_tags=1&content_type=7&extras=can_comment%2Ccount_comments%2Ccount_faves%2Cdescription%2Cisfavorite%2Clicense%2Cmedia%2Cneeds_interstitial%2Cowner_name%2Cpath_alias%2Crealname%2Crotation%2Curl_c%2Curl_l%2Curl_m%2Curl_n%2Curl_q%2Curl_s%2Curl_sq%2Curl_t%2Curl_z&per_page=100&page={}&lang=zh-Hant-HK&text={}&viewerNSID=&method=flickr.photos.search&csrf=&api_key={}&format=json&hermes=1&hermesClient=1&reqId=c40b0214&nojsoncallback=1\".format(i,location,api_key)\n",
    "        res = requests.get(url)\n",
    "        res.text\n",
    "        img_lish = res.json()['photos']['photo']\n",
    "        imgurl=[]\n",
    "\n",
    "        for image in img_lish:\n",
    "            try:\n",
    "                image['url_m_cdn']\n",
    "                imgurl.append(image['url_m_cdn'])\n",
    "            except:\n",
    "                pass\n",
    "        for img in imgurl:\n",
    "            try:\n",
    "                fname = img.split(\"/\")[-1]\n",
    "                print(fname)\n",
    "                imgsave = requests.get(img, stream = True) \n",
    "                a = fs.put(imgsave.raw, filename = fname) # 創建檔案，並且將image寫入\n",
    "                shutil.copyfileobj(imgsave.raw, a) # 將imgsave裡的資料by raw copy到a之中\n",
    "                del imgsave # 把暫存資料清空\n",
    "            except:\n",
    "                pass"
   ]
  },
  {
   "cell_type": "code",
   "execution_count": 103,
   "metadata": {
    "collapsed": true
   },
   "outputs": [],
   "source": [
    "def thirtythree(api_key,location = \"三十三間堂\",bucketname = \"thirtythree\"):      \n",
    "    fs = gridfs.GridFS(db, bucketname) # 連接database, 並命名bucket\n",
    "\n",
    "    for i in range(1,50):    \n",
    "        url = \"https://api.flickr.com/services/rest?sort=relevance&parse_tags=1&content_type=7&extras=can_comment%2Ccount_comments%2Ccount_faves%2Cdescription%2Cisfavorite%2Clicense%2Cmedia%2Cneeds_interstitial%2Cowner_name%2Cpath_alias%2Crealname%2Crotation%2Curl_c%2Curl_l%2Curl_m%2Curl_n%2Curl_q%2Curl_s%2Curl_sq%2Curl_t%2Curl_z&per_page=100&page={}&lang=zh-Hant-HK&text={}&viewerNSID=&method=flickr.photos.search&csrf=&api_key={}&format=json&hermes=1&hermesClient=1&reqId=c40b0214&nojsoncallback=1\".format(i,location,api_key)\n",
    "        res = requests.get(url)\n",
    "        res.text\n",
    "        img_lish = res.json()['photos']['photo']\n",
    "        imgurl=[]\n",
    "\n",
    "        for image in img_lish:\n",
    "            try:\n",
    "                image['url_m_cdn']\n",
    "                imgurl.append(image['url_m_cdn'])\n",
    "            except:\n",
    "                pass\n",
    "        for img in imgurl:\n",
    "            try:\n",
    "                fname = img.split(\"/\")[-1]\n",
    "                print(fname)\n",
    "                imgsave = requests.get(img, stream = True) \n",
    "                a = fs.put(imgsave.raw, filename = fname) # 創建檔案，並且將image寫入\n",
    "                shutil.copyfileobj(imgsave.raw, a) # 將imgsave裡的資料by raw copy到a之中\n",
    "                del imgsave # 把暫存資料清空\n",
    "            except:\n",
    "                pass"
   ]
  },
  {
   "cell_type": "code",
   "execution_count": 104,
   "metadata": {
    "collapsed": true
   },
   "outputs": [],
   "source": [
    "def thousand(api_key,location = \"千本鳥居\",bucketname = \"thousand\"):      \n",
    "    fs = gridfs.GridFS(db, bucketname) # 連接database, 並命名bucket\n",
    "\n",
    "    for i in range(1,50):    \n",
    "        url = \"https://api.flickr.com/services/rest?sort=relevance&parse_tags=1&content_type=7&extras=can_comment%2Ccount_comments%2Ccount_faves%2Cdescription%2Cisfavorite%2Clicense%2Cmedia%2Cneeds_interstitial%2Cowner_name%2Cpath_alias%2Crealname%2Crotation%2Curl_c%2Curl_l%2Curl_m%2Curl_n%2Curl_q%2Curl_s%2Curl_sq%2Curl_t%2Curl_z&per_page=100&page={}&lang=zh-Hant-HK&text={}&viewerNSID=&method=flickr.photos.search&csrf=&api_key={}&format=json&hermes=1&hermesClient=1&reqId=c40b0214&nojsoncallback=1\".format(i,location,api_key)\n",
    "        res = requests.get(url)\n",
    "        res.text\n",
    "        img_lish = res.json()['photos']['photo']\n",
    "        imgurl=[]\n",
    "\n",
    "        for image in img_lish:\n",
    "            try:\n",
    "                image['url_m_cdn']\n",
    "                imgurl.append(image['url_m_cdn'])\n",
    "            except:\n",
    "                pass\n",
    "        for img in imgurl:\n",
    "            try:\n",
    "                fname = img.split(\"/\")[-1]\n",
    "                print(fname)\n",
    "                imgsave = requests.get(img, stream = True) \n",
    "                a = fs.put(imgsave.raw, filename = fname) # 創建檔案，並且將image寫入\n",
    "                shutil.copyfileobj(imgsave.raw, a) # 將imgsave裡的資料by raw copy到a之中\n",
    "                del imgsave # 把暫存資料清空\n",
    "            except:\n",
    "                pass"
   ]
  },
  {
   "cell_type": "code",
   "execution_count": 105,
   "metadata": {
    "collapsed": true
   },
   "outputs": [],
   "source": [
    "def trainstation(api_key,location = \"京都火車站\",bucketname = \"trainstation\"):      \n",
    "    fs = gridfs.GridFS(db, bucketname) # 連接database, 並命名bucket\n",
    "\n",
    "    for i in range(1,50):    \n",
    "        url = \"https://api.flickr.com/services/rest?sort=relevance&parse_tags=1&content_type=7&extras=can_comment%2Ccount_comments%2Ccount_faves%2Cdescription%2Cisfavorite%2Clicense%2Cmedia%2Cneeds_interstitial%2Cowner_name%2Cpath_alias%2Crealname%2Crotation%2Curl_c%2Curl_l%2Curl_m%2Curl_n%2Curl_q%2Curl_s%2Curl_sq%2Curl_t%2Curl_z&per_page=100&page={}&lang=zh-Hant-HK&text={}&viewerNSID=&method=flickr.photos.search&csrf=&api_key={}&format=json&hermes=1&hermesClient=1&reqId=c40b0214&nojsoncallback=1\".format(i,location,api_key)\n",
    "        res = requests.get(url)\n",
    "        res.text\n",
    "        img_lish = res.json()['photos']['photo']\n",
    "        imgurl=[]\n",
    "\n",
    "        for image in img_lish:\n",
    "            try:\n",
    "                image['url_m_cdn']\n",
    "                imgurl.append(image['url_m_cdn'])\n",
    "            except:\n",
    "                pass\n",
    "        for img in imgurl:\n",
    "            try:\n",
    "                fname = img.split(\"/\")[-1]\n",
    "                print(fname)\n",
    "                imgsave = requests.get(img, stream = True) \n",
    "                a = fs.put(imgsave.raw, filename = fname) # 創建檔案，並且將image寫入\n",
    "                shutil.copyfileobj(imgsave.raw, a) # 將imgsave裡的資料by raw copy到a之中\n",
    "                del imgsave # 把暫存資料清空\n",
    "            except:\n",
    "                pass"
   ]
  },
  {
   "cell_type": "code",
   "execution_count": 106,
   "metadata": {
    "collapsed": true
   },
   "outputs": [],
   "source": [
    "def twobow(api_key,location = \"二條城\",bucketname = \"twobow\"):      \n",
    "    for i in range(1,50):    \n",
    "        url = \"https://api.flickr.com/services/rest?sort=relevance&parse_tags=1&content_type=7&extras=can_comment%2Ccount_comments%2Ccount_faves%2Cdescription%2Cisfavorite%2Clicense%2Cmedia%2Cneeds_interstitial%2Cowner_name%2Cpath_alias%2Crealname%2Crotation%2Curl_c%2Curl_l%2Curl_m%2Curl_n%2Curl_q%2Curl_s%2Curl_sq%2Curl_t%2Curl_z&per_page=100&page={}&lang=zh-Hant-HK&text={}&viewerNSID=&method=flickr.photos.search&csrf=&api_key={}&format=json&hermes=1&hermesClient=1&reqId=c40b0214&nojsoncallback=1\".format(i,location,api_key)\n",
    "        res = requests.get(url)\n",
    "        res.text\n",
    "        img_lish = res.json()['photos']['photo']\n",
    "        imgurl=[]\n",
    "\n",
    "        for image in img_lish:\n",
    "            try:\n",
    "                image['url_m_cdn']\n",
    "                imgurl.append(image['url_m_cdn'])\n",
    "            except:\n",
    "                pass\n",
    "        for img in imgurl:\n",
    "            try:\n",
    "                fname = img.split(\"/\")[-1]\n",
    "                print(fname)\n",
    "                imgsave = requests.get(img, stream = True) \n",
    "                a = fs.put(imgsave.raw, filename = fname) # 創建檔案，並且將image寫入\n",
    "                shutil.copyfileobj(imgsave.raw, a) # 將imgsave裡的資料by raw copy到a之中\n",
    "                del imgsave # 把暫存資料清空\n",
    "            except:\n",
    "                pass"
   ]
  },
  {
   "cell_type": "code",
   "execution_count": 107,
   "metadata": {
    "collapsed": true
   },
   "outputs": [],
   "source": [
    "def kinghouse(api_key,location = \"京都御所\",bucketname = \"kinghouse\"):     \n",
    "    fs = gridfs.GridFS(db, bucketname) # 連接database, 並命名bucket\n",
    "    for i in range(1,50):    \n",
    "        url = \"https://api.flickr.com/services/rest?sort=relevance&parse_tags=1&content_type=7&extras=can_comment%2Ccount_comments%2Ccount_faves%2Cdescription%2Cisfavorite%2Clicense%2Cmedia%2Cneeds_interstitial%2Cowner_name%2Cpath_alias%2Crealname%2Crotation%2Curl_c%2Curl_l%2Curl_m%2Curl_n%2Curl_q%2Curl_s%2Curl_sq%2Curl_t%2Curl_z&per_page=100&page={}&lang=zh-Hant-HK&text={}&viewerNSID=&method=flickr.photos.search&csrf=&api_key={}&format=json&hermes=1&hermesClient=1&reqId=c40b0214&nojsoncallback=1\".format(i,location,api_key)\n",
    "        res = requests.get(url)\n",
    "        res.text\n",
    "        img_lish = res.json()['photos']['photo']\n",
    "        imgurl=[]\n",
    "\n",
    "        for image in img_lish:\n",
    "            try:\n",
    "                image['url_m_cdn']\n",
    "                imgurl.append(image['url_m_cdn'])\n",
    "            except:\n",
    "                pass\n",
    "        for img in imgurl:\n",
    "            try:\n",
    "                fname = img.split(\"/\")[-1]\n",
    "                print(fname)\n",
    "                imgsave = requests.get(img, stream = True) \n",
    "                a = fs.put(imgsave.raw, filename = fname) # 創建檔案，並且將image寫入\n",
    "                shutil.copyfileobj(imgsave.raw, a) # 將imgsave裡的資料by raw copy到a之中\n",
    "                del imgsave # 把暫存資料清空\n",
    "            except:\n",
    "                pass"
   ]
  },
  {
   "cell_type": "code",
   "execution_count": 108,
   "metadata": {
    "collapsed": true
   },
   "outputs": [],
   "source": [
    "def pingdan(api_key,location = \"平等院\",bucketname = \"pingdan\"):      \n",
    "    fs = gridfs.GridFS(db, bucketname) # 連接database, 並命名bucket\n",
    "    for i in range(1,50):    \n",
    "        url = \"https://api.flickr.com/services/rest?sort=relevance&parse_tags=1&content_type=7&extras=can_comment%2Ccount_comments%2Ccount_faves%2Cdescription%2Cisfavorite%2Clicense%2Cmedia%2Cneeds_interstitial%2Cowner_name%2Cpath_alias%2Crealname%2Crotation%2Curl_c%2Curl_l%2Curl_m%2Curl_n%2Curl_q%2Curl_s%2Curl_sq%2Curl_t%2Curl_z&per_page=100&page={}&lang=zh-Hant-HK&text={}&viewerNSID=&method=flickr.photos.search&csrf=&api_key={}&format=json&hermes=1&hermesClient=1&reqId=c40b0214&nojsoncallback=1\".format(i,location,api_key)\n",
    "        res = requests.get(url)\n",
    "        res.text\n",
    "        img_lish = res.json()['photos']['photo']\n",
    "        imgurl=[]\n",
    "\n",
    "        for image in img_lish:\n",
    "            try:\n",
    "                image['url_m_cdn']\n",
    "                imgurl.append(image['url_m_cdn'])\n",
    "            except:\n",
    "                pass\n",
    "        for img in imgurl:\n",
    "            try:\n",
    "                fname = img.split(\"/\")[-1]\n",
    "                print(fname)\n",
    "                imgsave = requests.get(img, stream = True) \n",
    "                a = fs.put(imgsave.raw, filename = fname) # 創建檔案，並且將image寫入\n",
    "                shutil.copyfileobj(imgsave.raw, a) # 將imgsave裡的資料by raw copy到a之中\n",
    "                del imgsave # 把暫存資料清空\n",
    "            except:\n",
    "                pass"
   ]
  },
  {
   "cell_type": "code",
   "execution_count": 109,
   "metadata": {
    "collapsed": true
   },
   "outputs": [],
   "source": [
    "# cleanwater 清水寺\n",
    "# dragon 龍安寺\n",
    "# bridge 渡月橋\n",
    "# golden 金閣寺\n",
    "\n",
    "# kyototower 京都塔\n",
    "# thirtythree 三十三階堂\n",
    "# thousand 千本鳥居\n",
    "# trainstation 京都火車站\n",
    "# twobow 二條城\n",
    "# kinghouse 京都御所\n",
    "# pingdan 平等院\n"
   ]
  },
  {
   "cell_type": "code",
   "execution_count": null,
   "metadata": {
    "collapsed": true
   },
   "outputs": [],
   "source": []
  },
  {
   "cell_type": "code",
   "execution_count": null,
   "metadata": {
    "collapsed": true
   },
   "outputs": [],
   "source": [
    "def crawlerall(api_key):\n",
    "    with concurrent.futures.ThreadPoolExecutor(max_workers=6) as executor: # 高併發\n",
    "        cleanwater(api_key)\n",
    "        dragon(api_key)\n",
    "        bridge(api_key)\n",
    "        golden(api_key)\n",
    "        thirtythree(api_key)\n",
    "        thousand(api_key)\n",
    "        trainstation(api_key)\n",
    "        twobow(api_key)\n",
    "        kinghouse(api_key)\n",
    "        pingdan(api_key)"
   ]
  },
  {
   "cell_type": "code",
   "execution_count": null,
   "metadata": {},
   "outputs": [
    {
     "name": "stdout",
     "output_type": "stream",
     "text": [
      "33738690322_32debb6657.jpg\n",
      "6715064197_9c2cce1dbd.jpg\n",
      "15617907747_0bb7bb07a8.jpg\n",
      "15617908917_cee631a22b.jpg\n",
      "5578143616_4619f59ef9.jpg\n",
      "15617594940_5536a16537.jpg\n",
      "5578141836_d43b24c0f0.jpg\n",
      "15834555015_530310abfa.jpg\n",
      "15617594920_ca43aa0825.jpg\n",
      "5577552737_5cbc8ea26b.jpg\n",
      "15804556892_cfe6218b67.jpg\n",
      "5577555261_fec1433e65.jpg\n",
      "5577554193_4edab8b906.jpg\n",
      "15804556882_019b0b501d.jpg\n",
      "15803960512_10d22b5082.jpg\n",
      "15617594090_99220d05bd.jpg\n",
      "15617342007_fd4d08605f.jpg\n",
      "5577556947_1e2015c0af.jpg\n",
      "5578140136_66dc793c4c.jpg\n",
      "15804556062_762de877b6.jpg\n",
      "5578143358_3a00884478.jpg\n",
      "15804556842_4b521ebb6c.jpg\n",
      "15803960722_769fb96e13.jpg\n",
      "15803960742_ba51801579.jpg\n",
      "15617594960_5aaa39dfac.jpg\n",
      "5578140940_c77635756f.jpg\n",
      "15617342557_0fe0e5e336.jpg\n",
      "15803960732_753cd0fde8.jpg\n",
      "5577553485_a4c3ee6c7a.jpg\n",
      "15617594490_94e76be7b6.jpg\n",
      "5577556111_eac3a59696.jpg\n",
      "15703741287_16e46fd5b1.jpg\n",
      "2875786904_04135e526f.jpg\n",
      "8224715578_9e0e95f1fc.jpg\n",
      "16353608436_340f31afa0.jpg\n",
      "33264329246_8c13771e20.jpg\n",
      "11302840095_7b68a2d6a8.jpg\n",
      "5522259737_e0d7d210d1.jpg\n",
      "34177256310_082e1d61de.jpg\n",
      "8178248112_2160534631.jpg\n",
      "15751486163_5e79569f86.jpg\n",
      "35483131285_cb92b44550.jpg\n",
      "34708078213_d6bc347692.jpg\n",
      "8223677471_2acd9ca119.jpg\n",
      "35347922023_21f0d662c7.jpg\n",
      "5612649092_7a80a9cf40.jpg\n",
      "8581132725_4f303fc37e.jpg\n",
      "15810187596_998af9fc34.jpg\n",
      "35347928623_6bae974d79.jpg\n"
     ]
    }
   ],
   "source": [
    "crawlerall(api_key=\"7cd3d1e58347e8ed1795bc10096da409\")"
   ]
  },
  {
   "cell_type": "code",
   "execution_count": null,
   "metadata": {
    "collapsed": true
   },
   "outputs": [],
   "source": []
  },
  {
   "cell_type": "code",
   "execution_count": null,
   "metadata": {
    "collapsed": true
   },
   "outputs": [],
   "source": [
    "db.fs.chunks.createIndex( { files_id: 1, n: 1 }, { unique: true } );"
   ]
  },
  {
   "cell_type": "code",
   "execution_count": null,
   "metadata": {
    "collapsed": true
   },
   "outputs": [],
   "source": []
  }
 ],
 "metadata": {
  "kernelspec": {
   "display_name": "Python 3",
   "language": "python",
   "name": "python3"
  },
  "language_info": {
   "codemirror_mode": {
    "name": "ipython",
    "version": 3
   },
   "file_extension": ".py",
   "mimetype": "text/x-python",
   "name": "python",
   "nbconvert_exporter": "python",
   "pygments_lexer": "ipython3",
   "version": "3.6.1"
  }
 },
 "nbformat": 4,
 "nbformat_minor": 2
}
