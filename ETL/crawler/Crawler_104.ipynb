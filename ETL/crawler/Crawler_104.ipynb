{
 "cells": [
  {
   "cell_type": "code",
   "execution_count": 1,
   "metadata": {
    "collapsed": true
   },
   "outputs": [],
   "source": [
    "import requests\n",
    "from bs4 import BeautifulSoup\n",
    "import re\n",
    "from collections import Counter\n",
    "import pandas"
   ]
  },
  {
   "cell_type": "code",
   "execution_count": 35,
   "metadata": {},
   "outputs": [
    {
     "name": "stdout",
     "output_type": "stream",
     "text": [
      "<class 'int'>\n"
     ]
    }
   ],
   "source": [
    "#找出共有幾頁\n",
    "url = \"https://www.104.com.tw/jobbank/joblist/joblist.cfm?jobsource=n104bank1&ro=0&keyword=%E7%A8%8B%E5%BC%8F%E8%A8%AD%E8%A8%88%E5%B8%AB&order=1&asc=0&page=1\"\n",
    "res = requests.get(urls)\n",
    "soup = BeautifulSoup(res.text,\"lxml\")\n",
    "fing_pages = soup.select(\".next_page\")  #看看頁數的格式\n",
    "pages = int(re.findall(\"\\d+\",fing_pages[0].text)[2])\n",
    "totalinfo = soup.text.split(\" 筆\")[0].split(\"共 \")[1] #找出共有幾筆資料\n",
    "print (type(pages))"
   ]
  },
  {
   "cell_type": "code",
   "execution_count": 44,
   "metadata": {},
   "outputs": [
    {
     "name": "stdout",
     "output_type": "stream",
     "text": [
      "[('不拘', 1155), ('javascript', 616), ('html', 551), ('ms sql', 547), ('c#', 489), ('asp.net', 471), ('jquery', 446), ('java', 434), ('mysql', 368), ('php', 345)]\n"
     ]
    }
   ],
   "source": [
    "#找出所有職缺網頁連結(頁數從1開始,所以頁尾要再+1)\n",
    "cnt = Counter()\n",
    "for i in range(1,pages+1):\n",
    "    \n",
    "    #做例外處理,有資料就執行下去,沒有就跳過執行下一筆\n",
    "    try:\n",
    "        urls=\"https://www.104.com.tw/jobbank/joblist/joblist.cfm?jobsource=n104bank1&ro=0&keyword=%E7%A8%8B%E5%BC%8F%E8%A8%AD%E8%A8%88%E5%B8%AB&order=1&asc=0&page={}\".format(i)\n",
    "\n",
    "        res = requests.get(urls)\n",
    "        soup = BeautifulSoup(res.text,\"lxml\")\n",
    "        keyword = soup.select(\" li > .job_name > a \") #104職缺頁面link格式為https://www.104.com.tw/ + keyword\n",
    "\n",
    "\n",
    "\n",
    "        #找出職缺及所需電腦技能\n",
    "        for i in range(0,len(keyword)): #利用連結筆數進而知道該頁有幾筆連結\n",
    "            links = \"https://www.104.com.tw/\"+keyword[i]['href']\n",
    "            res2 = requests.get(links)\n",
    "            soup2 = BeautifulSoup(res2.text,\"lxml\")\n",
    "            position = soup2.select(\"h1\")[1].text.strip().split(\"\\n\")[0]\n",
    "            needskill = soup2.select(\"section.info\")[1].text.replace(\"、\",\",\").split(\"擅長工具\")[1].split(\"\\n\")[1]\n",
    "            needskill = needskill.lower()\n",
    "            for skills in needskill.split(\",\"):\n",
    "                if skills in cnt:\n",
    "                    cnt[skills] += 1\n",
    "                else:\n",
    "                    cnt[skills] = 1\n",
    "    except:\n",
    "        pass\n",
    "print (cnt.most_common(10)) \n",
    "            \n"
   ]
  },
  {
   "cell_type": "code",
   "execution_count": null,
   "metadata": {
    "collapsed": true
   },
   "outputs": [],
   "source": []
  },
  {
   "cell_type": "code",
   "execution_count": null,
   "metadata": {
    "collapsed": true
   },
   "outputs": [],
   "source": [
    "#找出共有幾筆資料\n",
    "res = requests.get(data.get(1))\n",
    "soup = BeautifulSoup(res.text,\"lxml\")\n"
   ]
  },
  {
   "cell_type": "code",
   "execution_count": null,
   "metadata": {
    "collapsed": true
   },
   "outputs": [],
   "source": [
    "\n",
    "    "
   ]
  },
  {
   "cell_type": "code",
   "execution_count": null,
   "metadata": {
    "collapsed": true
   },
   "outputs": [],
   "source": []
  }
 ],
 "metadata": {
  "kernelspec": {
   "display_name": "Python 3",
   "language": "python",
   "name": "python3"
  },
  "language_info": {
   "codemirror_mode": {
    "name": "ipython",
    "version": 3
   },
   "file_extension": ".py",
   "mimetype": "text/x-python",
   "name": "python",
   "nbconvert_exporter": "python",
   "pygments_lexer": "ipython3",
   "version": "3.6.1"
  }
 },
 "nbformat": 4,
 "nbformat_minor": 2
}
