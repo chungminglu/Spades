{
 "cells": [
  {
   "cell_type": "code",
   "execution_count": 1,
   "metadata": {},
   "outputs": [
    {
     "name": "stdout",
     "output_type": "stream",
     "text": [
      "Requirement already satisfied: splinter in c:\\users\\java\\anaconda3\\lib\\site-packages\n",
      "Requirement already satisfied: selenium>=2.53.6 in c:\\users\\java\\anaconda3\\lib\\site-packages (from splinter)\n"
     ]
    }
   ],
   "source": [
    "import requests\n",
    "from bs4 import BeautifulSoup\n",
    "!pip install splinter"
   ]
  },
  {
   "cell_type": "code",
   "execution_count": 2,
   "metadata": {
    "collapsed": true
   },
   "outputs": [],
   "source": [
    "import json\n",
    "import os"
   ]
  },
  {
   "cell_type": "code",
   "execution_count": 6,
   "metadata": {},
   "outputs": [
    {
     "name": "stdout",
     "output_type": "stream",
     "text": [
      "33738690322_32debb6657.jpg\n",
      "6715064197_9c2cce1dbd.jpg\n",
      "35329267141_16e0ba5966.jpg\n",
      "15617907747_0bb7bb07a8.jpg\n",
      "15617908917_cee631a22b.jpg\n",
      "5578143616_4619f59ef9.jpg\n",
      "15617594940_5536a16537.jpg\n",
      "5578141836_d43b24c0f0.jpg\n",
      "15834555015_530310abfa.jpg\n",
      "15617594920_ca43aa0825.jpg\n",
      "5577552737_5cbc8ea26b.jpg\n",
      "15804556892_cfe6218b67.jpg\n",
      "5577555261_fec1433e65.jpg\n",
      "5577554193_4edab8b906.jpg\n",
      "15804556882_019b0b501d.jpg\n",
      "15803960512_10d22b5082.jpg\n",
      "15617594090_99220d05bd.jpg\n",
      "15617342007_fd4d08605f.jpg\n",
      "5577556947_1e2015c0af.jpg\n",
      "5578140136_66dc793c4c.jpg\n",
      "15804556062_762de877b6.jpg\n",
      "5578143358_3a00884478.jpg\n",
      "15804556842_4b521ebb6c.jpg\n",
      "15803960722_769fb96e13.jpg\n",
      "15803960742_ba51801579.jpg\n",
      "15617594960_5aaa39dfac.jpg\n",
      "5578140940_c77635756f.jpg\n",
      "15617342557_0fe0e5e336.jpg\n",
      "15803960732_753cd0fde8.jpg\n",
      "5577553485_a4c3ee6c7a.jpg\n",
      "15617594490_94e76be7b6.jpg\n",
      "5577556111_eac3a59696.jpg\n",
      "15703741287_16e46fd5b1.jpg\n",
      "2875786904_04135e526f.jpg\n",
      "8224715578_9e0e95f1fc.jpg\n",
      "16353608436_340f31afa0.jpg\n",
      "33264329246_8c13771e20.jpg\n",
      "11302840095_7b68a2d6a8.jpg\n",
      "5522259737_e0d7d210d1.jpg\n",
      "34177256310_082e1d61de.jpg\n",
      "34708078213_d6bc347692.jpg\n",
      "8178248112_2160534631.jpg\n",
      "15751486163_5e79569f86.jpg\n",
      "35483131285_cb92b44550.jpg\n",
      "8223677471_2acd9ca119.jpg\n",
      "34494404540_9b93dda5ca.jpg\n",
      "5612649092_7a80a9cf40.jpg\n",
      "34494407220_be9f18cb48.jpg\n",
      "15810187596_998af9fc34.jpg\n",
      "8581132725_4f303fc37e.jpg\n",
      "8223642739_fecbd9f303.jpg\n",
      "35333336341_72c4da5c5b.jpg\n",
      "8581129049_1b50e3cba7.jpg\n",
      "3558584615_8b0ccdf457.jpg\n",
      "15836107932_12db3d9d9e.jpg\n",
      "9033365775_4e5f45ba0b.jpg\n",
      "3559394270_a630cf8633.jpg\n",
      "15779522786_24f30acc27.jpg\n",
      "5299505135_69786b965c.jpg\n",
      "35388553501_d79be3c798.jpg\n",
      "35483133385_d5f1f24540.jpg\n",
      "4344432217_9847a0f5fc.jpg\n",
      "35248993891_9a28f90198.jpg\n",
      "5198760526_21295dfed8.jpg\n",
      "11302852094_96c73b2eb8.jpg\n",
      "15617908647_2ec516a4f2.jpg\n",
      "15834530925_39f01f7c87.jpg\n",
      "3305639903_85a4ea6ded.jpg\n",
      "5299502387_48ccc904bb.jpg\n",
      "5299504751_4e628c4049.jpg\n",
      "15804770092_28270f3034.jpg\n",
      "35131226430_cd65373b10.jpg\n",
      "35381067265_e0a12d4117.jpg\n",
      "3558584247_963dd43ea1.jpg\n",
      "5300104494_70c26460b7.jpg\n",
      "15617908007_bc9854282a.jpg\n",
      "5198166255_5a94d591d1.jpg\n",
      "35077147930_80bd7c1b0a.jpg\n",
      "3559392700_b1ab5f67f6.jpg\n",
      "35341604346_7e582366b9.jpg\n",
      "15649412137_005f7ab32c.jpg\n",
      "5198759892_7f20c63db8.jpg\n",
      "5300101006_31dc4792e4.jpg\n",
      "35214525032_aa97fa512e.jpg\n",
      "13916103506_0d1a2e8712.jpg\n",
      "5300102942_6ddb5f8e51.jpg\n",
      "6978824645_170e0dcf8f.jpg\n",
      "3559392998_67b8c37240.jpg\n",
      "5300104758_06ee8d3cee.jpg\n",
      "15617956307_26c6fbd952.jpg\n",
      "5198760098_6486428528.jpg\n",
      "5299505377_11a129a576.jpg\n",
      "34535637094_b234723ec4.jpg\n",
      "5299502661_6261d3bdef.jpg\n",
      "5299501979_57cf5488ce.jpg\n",
      "3305666325_ae0f89a1dd.jpg\n",
      "13939205925_af26535a40.jpg\n",
      "4944214377_21d6fc04ec.jpg\n",
      "35248993101_71e3e28cc8.jpg\n",
      "6112515432_7924338c48.jpg\n"
     ]
    }
   ],
   "source": [
    "import shutil # 把資料copy到檔案裡\n",
    "for i in range(1,101):\n",
    "    \n",
    "    url = \"https://api.flickr.com/services/rest?sort=relevance&parse_tags=1&content_type=7&extras=can_comment%2Ccount_comments%2Ccount_faves%2Cdescription%2Cisfavorite%2Clicense%2Cmedia%2Cneeds_interstitial%2Cowner_name%2Cpath_alias%2Crealname%2Crotation%2Curl_c%2Curl_l%2Curl_m%2Curl_n%2Curl_q%2Curl_s%2Curl_sq%2Curl_t%2Curl_z&per_page=100&page={}&lang=zh-Hant-HK&text={}&viewerNSID=&method=flickr.photos.search&csrf=&api_key=562311a86df8cbd6341b4306e46ce39b&format=json&hermes=1&hermesClient=1&reqId=c40b0214&nojsoncallback=1\".format(i,\"清水寺\")\n",
    "    res = requests.get(url)\n",
    "    res.text\n",
    "    img_lish = res.json()['photos']['photo']\n",
    "    imgurl=[]\n",
    "    \n",
    "    for image in img_lish:\n",
    "        try:\n",
    "            image['url_m_cdn']\n",
    "            imgurl.append(image['url_m_cdn'])\n",
    "        except:\n",
    "            pass\n",
    "    for img in imgurl:\n",
    "        try:\n",
    "            fname = img.split(\"/\")[-1]\n",
    "            print(fname)\n",
    "            imgsave = requests.get(img, stream = True) \n",
    "            f = open(\"D:\\Project_Image\\清水寺\\{}\".format(fname), 'wb') # 創建檔案，並且用w binary的方法寫入\n",
    "            shutil.copyfileobj(imgsave.raw, f) # 將imgsave裡的資料by raw copy到檔案f之中\n",
    "            f.close # 關閉檔案\n",
    "            del imgsave # 把暫存資料清空\n",
    "        except:\n",
    "            pass"
   ]
  },
  {
   "cell_type": "code",
   "execution_count": null,
   "metadata": {
    "collapsed": true
   },
   "outputs": [],
   "source": []
  }
 ],
 "metadata": {
  "kernelspec": {
   "display_name": "Python 3",
   "language": "python",
   "name": "python3"
  },
  "language_info": {
   "codemirror_mode": {
    "name": "ipython",
    "version": 3
   },
   "file_extension": ".py",
   "mimetype": "text/x-python",
   "name": "python",
   "nbconvert_exporter": "python",
   "pygments_lexer": "ipython3",
   "version": "3.6.1"
  }
 },
 "nbformat": 4,
 "nbformat_minor": 2
}
