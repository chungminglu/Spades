{
 "cells": [
  {
   "cell_type": "code",
   "execution_count": 1,
   "metadata": {},
   "outputs": [
    {
     "name": "stdout",
     "output_type": "stream",
     "text": [
      "Requirement already satisfied: splinter in c:\\users\\java\\anaconda3\\lib\\site-packages\n",
      "Requirement already satisfied: selenium>=2.53.6 in c:\\users\\java\\anaconda3\\lib\\site-packages (from splinter)\n",
      "Requirement already satisfied: pymongo in c:\\users\\java\\anaconda3\\lib\\site-packages\n"
     ]
    }
   ],
   "source": [
    "!pip install splinter\n",
    "!pip install pymongo\n",
    "import pymongo\n",
    "from bs4 import BeautifulSoup\n",
    "import requests"
   ]
  },
  {
   "cell_type": "code",
   "execution_count": 2,
   "metadata": {
    "collapsed": true
   },
   "outputs": [],
   "source": [
    "import json\n",
    "import os\n",
    "from pymongo import MongoClient\n",
    "import gridfs\n",
    "import shutil # 把資料copy到檔案裡\n",
    "import concurrent.futures\n",
    "db = MongoClient().gridfs_project_image # 創立&連接database"
   ]
  },
  {
   "cell_type": "code",
   "execution_count": 3,
   "metadata": {
    "collapsed": true
   },
   "outputs": [],
   "source": [
    "import pymongo\n",
    "from pymongo import MongoClient"
   ]
  },
  {
   "cell_type": "code",
   "execution_count": 4,
   "metadata": {
    "collapsed": true
   },
   "outputs": [],
   "source": [
    "import datetime\n",
    "KyotoImageList = {}"
   ]
  },
  {
   "cell_type": "code",
   "execution_count": 5,
   "metadata": {
    "collapsed": true
   },
   "outputs": [],
   "source": [
    "client = MongoClient('localhost', 27017)\n",
    "db = client.KyotoImage\n"
   ]
  },
  {
   "cell_type": "code",
   "execution_count": 6,
   "metadata": {
    "collapsed": true
   },
   "outputs": [],
   "source": [
    "collection = db.cleanwater\n",
    "collection = db.dragon\n",
    "collection = db.bridge\n",
    "collection = db.golden\n",
    "collection = db.kyototower\n",
    "collection = db.thirtythree\n",
    "collection = db.thousand\n",
    "collection = db.trainstation\n",
    "collection = db.twobow\n",
    "collection = db.kinghouse\n",
    "collection = db.pingdan"
   ]
  },
  {
   "cell_type": "code",
   "execution_count": 7,
   "metadata": {
    "collapsed": true
   },
   "outputs": [],
   "source": [
    "def cleanwater(api_key,location = \"清水寺\",bucketname = \"cleanwater\"):      \n",
    "    fs = gridfs.GridFS(db, bucketname) # 連接database, 並命名bucket\n",
    "    for i in range(1,41):    \n",
    "        url = \"https://api.flickr.com/services/rest?sort=relevance&parse_tags=1&content_type=7&extras=can_comment%2Ccount_comments%2Ccount_faves%2Cdescription%2Cisfavorite%2Clicense%2Cmedia%2Cneeds_interstitial%2Cowner_name%2Cpath_alias%2Crealname%2Crotation%2Curl_c%2Curl_l%2Curl_m%2Curl_n%2Curl_q%2Curl_s%2Curl_sq%2Curl_t%2Curl_z&per_page=100&page={}&lang=zh-Hant-HK&text={}&viewerNSID=&method=flickr.photos.search&csrf=&api_key={}&format=json&hermes=1&hermesClient=1&reqId=c40b0214&nojsoncallback=1\".format(i,location,api_key)\n",
    "        res = requests.get(url)\n",
    "        res.text\n",
    "        img_lish = res.json()['photos']['photo']\n",
    "        imgurl=[]\n",
    "\n",
    "        for image in img_lish:\n",
    "            try:\n",
    "                image['url_m_cdn']\n",
    "                imgurl.append(image['url_m_cdn'])\n",
    "            except:\n",
    "                pass\n",
    "        for img in imgurl:\n",
    "            try:\n",
    "                fname = img.split(\"/\")[-1]\n",
    "                print(fname)\n",
    "                imgsave = requests.get(img, stream = True) \n",
    "                filelocation = \"D:\\Project_Image\\清水寺\\{}\".format(fname)\n",
    "                f = open(filelocation, 'wb') # 創建檔案，並且用w binary的方法寫入\n",
    "                shutil.copyfileobj(imgsave.raw, f) # 將imgsave裡的資料by raw copy到檔案f之中\n",
    "                f.close # 關閉檔案\n",
    "                del imgsave # 把暫存資料清空\n",
    "\n",
    "                KyotoImageList = {\"location\": \"清水寺\",\"filelocation\": filelocation,\"tags\": \"清水寺\",\"filename\": fname}\n",
    "                db.cleanwater.insert_one(KyotoImageList)  \n",
    "            except:\n",
    "                pass"
   ]
  },
  {
   "cell_type": "code",
   "execution_count": 8,
   "metadata": {
    "collapsed": true
   },
   "outputs": [],
   "source": [
    "def dragon(api_key,location = \"龍安寺\",bucketname = \"dragon\"):      \n",
    "    fs = gridfs.GridFS(db, bucketname) # 連接database, 並命名bucket\n",
    "    for i in range(1,41):    \n",
    "        url = \"https://api.flickr.com/services/rest?sort=relevance&parse_tags=1&content_type=7&extras=can_comment%2Ccount_comments%2Ccount_faves%2Cdescription%2Cisfavorite%2Clicense%2Cmedia%2Cneeds_interstitial%2Cowner_name%2Cpath_alias%2Crealname%2Crotation%2Curl_c%2Curl_l%2Curl_m%2Curl_n%2Curl_q%2Curl_s%2Curl_sq%2Curl_t%2Curl_z&per_page=100&page={}&lang=zh-Hant-HK&text={}&viewerNSID=&method=flickr.photos.search&csrf=&api_key={}&format=json&hermes=1&hermesClient=1&reqId=c40b0214&nojsoncallback=1\".format(i,location,api_key)\n",
    "        res = requests.get(url)\n",
    "        res.text\n",
    "        img_lish = res.json()['photos']['photo']\n",
    "        imgurl=[]\n",
    "\n",
    "        for image in img_lish:\n",
    "            try:\n",
    "                image['url_m_cdn']\n",
    "                imgurl.append(image['url_m_cdn'])\n",
    "            except:\n",
    "                pass\n",
    "        for img in imgurl:\n",
    "            try:\n",
    "                fname = img.split(\"/\")[-1]\n",
    "                print(fname)\n",
    "                imgsave = requests.get(img, stream = True) \n",
    "                filelocation = \"D:\\Project_Image\\龍安寺\\{}\".format(fname)\n",
    "                f = open(filelocation, 'wb') # 創建檔案，並且用w binary的方法寫入\n",
    "                shutil.copyfileobj(imgsave.raw, f) # 將imgsave裡的資料by raw copy到檔案f之中\n",
    "                f.close # 關閉檔案\n",
    "                del imgsave # 把暫存資料清空\n",
    "\n",
    "                KyotoImageList = {\"location\": \"龍安寺\",\"filelocation\": filelocation,\"tags\": \"龍安寺\",\"filename\": fname}\n",
    "                db.dragon.insert_one(KyotoImageList)  \n",
    "            except:\n",
    "                pass"
   ]
  },
  {
   "cell_type": "code",
   "execution_count": 9,
   "metadata": {
    "collapsed": true
   },
   "outputs": [],
   "source": [
    "def bridge(api_key,location = \"渡月橋\",bucketname = \"bridge\"):      \n",
    "    fs = gridfs.GridFS(db, bucketname) # 連接database, 並命名bucket\n",
    "\n",
    "    for i in range(1,41):    \n",
    "        url = \"https://api.flickr.com/services/rest?sort=relevance&parse_tags=1&content_type=7&extras=can_comment%2Ccount_comments%2Ccount_faves%2Cdescription%2Cisfavorite%2Clicense%2Cmedia%2Cneeds_interstitial%2Cowner_name%2Cpath_alias%2Crealname%2Crotation%2Curl_c%2Curl_l%2Curl_m%2Curl_n%2Curl_q%2Curl_s%2Curl_sq%2Curl_t%2Curl_z&per_page=100&page={}&lang=zh-Hant-HK&text={}&viewerNSID=&method=flickr.photos.search&csrf=&api_key={}&format=json&hermes=1&hermesClient=1&reqId=c40b0214&nojsoncallback=1\".format(i,location,api_key)\n",
    "        res = requests.get(url)\n",
    "        res.text\n",
    "        img_lish = res.json()['photos']['photo']\n",
    "        imgurl=[]\n",
    "\n",
    "        for image in img_lish:\n",
    "            try:\n",
    "                image['url_m_cdn']\n",
    "                imgurl.append(image['url_m_cdn'])\n",
    "            except:\n",
    "                pass\n",
    "        for img in imgurl:\n",
    "            try:\n",
    "                fname = img.split(\"/\")[-1]\n",
    "                print(fname)\n",
    "                imgsave = requests.get(img, stream = True) \n",
    "                filelocation = \"D:\\Project_Image\\渡月橋\\{}\".format(fname)\n",
    "                f = open(filelocation, 'wb') # 創建檔案，並且用w binary的方法寫入\n",
    "                shutil.copyfileobj(imgsave.raw, f) # 將imgsave裡的資料by raw copy到檔案f之中\n",
    "                f.close # 關閉檔案\n",
    "                del imgsave # 把暫存資料清空\n",
    "\n",
    "                KyotoImageList = {\"location\": \"渡月橋\",\"filelocation\": filelocation,\"tags\": \"渡月橋\",\"filename\": fname}\n",
    "                db.bridge.insert_one(KyotoImageList)  \n",
    "            except:\n",
    "                pass"
   ]
  },
  {
   "cell_type": "code",
   "execution_count": 10,
   "metadata": {
    "collapsed": true
   },
   "outputs": [],
   "source": [
    "def golden(api_key,location = \"金閣寺\",bucketname = \"golden\"):      \n",
    "    fs = gridfs.GridFS(db, bucketname) # 連接database, 並命名bucket\n",
    "    for i in range(1,41):    \n",
    "        url = \"https://api.flickr.com/services/rest?sort=relevance&parse_tags=1&content_type=7&extras=can_comment%2Ccount_comments%2Ccount_faves%2Cdescription%2Cisfavorite%2Clicense%2Cmedia%2Cneeds_interstitial%2Cowner_name%2Cpath_alias%2Crealname%2Crotation%2Curl_c%2Curl_l%2Curl_m%2Curl_n%2Curl_q%2Curl_s%2Curl_sq%2Curl_t%2Curl_z&per_page=100&page={}&lang=zh-Hant-HK&text={}&viewerNSID=&method=flickr.photos.search&csrf=&api_key={}&format=json&hermes=1&hermesClient=1&reqId=c40b0214&nojsoncallback=1\".format(i,location,api_key)\n",
    "        res = requests.get(url)\n",
    "        res.text\n",
    "        img_lish = res.json()['photos']['photo']\n",
    "        imgurl=[]\n",
    "\n",
    "        for image in img_lish:\n",
    "            try:\n",
    "                image['url_m_cdn']\n",
    "                imgurl.append(image['url_m_cdn'])\n",
    "            except:\n",
    "                pass\n",
    "        for img in imgurl:\n",
    "            try:\n",
    "                fname = img.split(\"/\")[-1]\n",
    "                print(fname)\n",
    "                imgsave = requests.get(img, stream = True) \n",
    "                filelocation = \"D:\\Project_Image\\金閣寺\\{}\".format(fname)\n",
    "                f = open(filelocation, 'wb') # 創建檔案，並且用w binary的方法寫入\n",
    "                shutil.copyfileobj(imgsave.raw, f) # 將imgsave裡的資料by raw copy到檔案f之中\n",
    "                f.close # 關閉檔案\n",
    "                del imgsave # 把暫存資料清空\n",
    "\n",
    "                KyotoImageList = {\"location\": \"金閣寺\",\"filelocation\": filelocation,\"tags\": \"金閣寺\",\"filename\": fname}\n",
    "                db.golden.insert_one(KyotoImageList)  \n",
    "            except:\n",
    "                pass"
   ]
  },
  {
   "cell_type": "code",
   "execution_count": 11,
   "metadata": {
    "collapsed": true
   },
   "outputs": [],
   "source": [
    "def kyototower(api_key,location = \"京都塔\",bucketname = \"kyototower\"):      \n",
    "    fs = gridfs.GridFS(db, bucketname) # 連接database, 並命名bucket\n",
    "\n",
    "    for i in range(1,41):    \n",
    "        url = \"https://api.flickr.com/services/rest?sort=relevance&parse_tags=1&content_type=7&extras=can_comment%2Ccount_comments%2Ccount_faves%2Cdescription%2Cisfavorite%2Clicense%2Cmedia%2Cneeds_interstitial%2Cowner_name%2Cpath_alias%2Crealname%2Crotation%2Curl_c%2Curl_l%2Curl_m%2Curl_n%2Curl_q%2Curl_s%2Curl_sq%2Curl_t%2Curl_z&per_page=100&page={}&lang=zh-Hant-HK&text={}&viewerNSID=&method=flickr.photos.search&csrf=&api_key={}&format=json&hermes=1&hermesClient=1&reqId=c40b0214&nojsoncallback=1\".format(i,location,api_key)\n",
    "        res = requests.get(url)\n",
    "        res.text\n",
    "        img_lish = res.json()['photos']['photo']\n",
    "        imgurl=[]\n",
    "\n",
    "        for image in img_lish:\n",
    "            try:\n",
    "                image['url_m_cdn']\n",
    "                imgurl.append(image['url_m_cdn'])\n",
    "            except:\n",
    "                pass\n",
    "        for img in imgurl:\n",
    "            try:\n",
    "                fname = img.split(\"/\")[-1]\n",
    "                print(fname)\n",
    "                imgsave = requests.get(img, stream = True) \n",
    "                filelocation = \"D:\\Project_Image\\京都塔\\{}\".format(fname)\n",
    "                f = open(filelocation, 'wb') # 創建檔案，並且用w binary的方法寫入\n",
    "                shutil.copyfileobj(imgsave.raw, f) # 將imgsave裡的資料by raw copy到檔案f之中\n",
    "                f.close # 關閉檔案\n",
    "                del imgsave # 把暫存資料清空\n",
    "\n",
    "                KyotoImageList = {\"location\": \"京都塔\",\"filelocation\": filelocation,\"tags\": \"京都塔\",\"filename\": fname}\n",
    "                db.kyototower.insert_one(KyotoImageList)  \n",
    "            except:\n",
    "                pass"
   ]
  },
  {
   "cell_type": "code",
   "execution_count": 12,
   "metadata": {
    "collapsed": true
   },
   "outputs": [],
   "source": [
    "def thirtythree(api_key,location = \"三十三間堂\",bucketname = \"thirtythree\"):      \n",
    "    fs = gridfs.GridFS(db, bucketname) # 連接database, 並命名bucket\n",
    "\n",
    "    for i in range(1,41):    \n",
    "        url = \"https://api.flickr.com/services/rest?sort=relevance&parse_tags=1&content_type=7&extras=can_comment%2Ccount_comments%2Ccount_faves%2Cdescription%2Cisfavorite%2Clicense%2Cmedia%2Cneeds_interstitial%2Cowner_name%2Cpath_alias%2Crealname%2Crotation%2Curl_c%2Curl_l%2Curl_m%2Curl_n%2Curl_q%2Curl_s%2Curl_sq%2Curl_t%2Curl_z&per_page=100&page={}&lang=zh-Hant-HK&text={}&viewerNSID=&method=flickr.photos.search&csrf=&api_key={}&format=json&hermes=1&hermesClient=1&reqId=c40b0214&nojsoncallback=1\".format(i,location,api_key)\n",
    "        res = requests.get(url)\n",
    "        res.text\n",
    "        img_lish = res.json()['photos']['photo']\n",
    "        imgurl=[]\n",
    "\n",
    "        for image in img_lish:\n",
    "            try:\n",
    "                image['url_m_cdn']\n",
    "                imgurl.append(image['url_m_cdn'])\n",
    "            except:\n",
    "                pass\n",
    "        for img in imgurl:\n",
    "            try:\n",
    "                fname = img.split(\"/\")[-1]\n",
    "                print(fname)\n",
    "                imgsave = requests.get(img, stream = True) \n",
    "                filelocation = \"D:\\Project_Image\\三十三間堂\\{}\".format(fname)\n",
    "                f = open(filelocation, 'wb') # 創建檔案，並且用w binary的方法寫入\n",
    "                shutil.copyfileobj(imgsave.raw, f) # 將imgsave裡的資料by raw copy到檔案f之中\n",
    "                f.close # 關閉檔案\n",
    "                del imgsave # 把暫存資料清空\n",
    "\n",
    "                KyotoImageList = {\"location\": \"三十三間堂\",\"filelocation\": filelocation,\"tags\": \"三十三間堂\",\"filename\": fname}\n",
    "                db.thirtythree.insert_one(KyotoImageList)  \n",
    "            except:\n",
    "                pass"
   ]
  },
  {
   "cell_type": "code",
   "execution_count": 13,
   "metadata": {
    "collapsed": true
   },
   "outputs": [],
   "source": [
    "def thousand(api_key,location = \"千本鳥居\",bucketname = \"thousand\"):      \n",
    "    fs = gridfs.GridFS(db, bucketname) # 連接database, 並命名bucket\n",
    "\n",
    "    for i in range(1,41):    \n",
    "        url = \"https://api.flickr.com/services/rest?sort=relevance&parse_tags=1&content_type=7&extras=can_comment%2Ccount_comments%2Ccount_faves%2Cdescription%2Cisfavorite%2Clicense%2Cmedia%2Cneeds_interstitial%2Cowner_name%2Cpath_alias%2Crealname%2Crotation%2Curl_c%2Curl_l%2Curl_m%2Curl_n%2Curl_q%2Curl_s%2Curl_sq%2Curl_t%2Curl_z&per_page=100&page={}&lang=zh-Hant-HK&text={}&viewerNSID=&method=flickr.photos.search&csrf=&api_key={}&format=json&hermes=1&hermesClient=1&reqId=c40b0214&nojsoncallback=1\".format(i,location,api_key)\n",
    "        res = requests.get(url)\n",
    "        res.text\n",
    "        img_lish = res.json()['photos']['photo']\n",
    "        imgurl=[]\n",
    "\n",
    "        for image in img_lish:\n",
    "            try:\n",
    "                image['url_m_cdn']\n",
    "                imgurl.append(image['url_m_cdn'])\n",
    "            except:\n",
    "                pass\n",
    "        for img in imgurl:\n",
    "            try:\n",
    "                fname = img.split(\"/\")[-1]\n",
    "                print(fname)\n",
    "                imgsave = requests.get(img, stream = True) \n",
    "                filelocation = \"D:\\Project_Image\\千本鳥居\\{}\".format(fname)\n",
    "                f = open(filelocation, 'wb') # 創建檔案，並且用w binary的方法寫入\n",
    "                shutil.copyfileobj(imgsave.raw, f) # 將imgsave裡的資料by raw copy到檔案f之中\n",
    "                f.close # 關閉檔案\n",
    "                del imgsave # 把暫存資料清空\n",
    "\n",
    "                KyotoImageList = {\"location\": \"千本鳥居\",\"filelocation\": filelocation,\"tags\": \"千本鳥居\",\"filename\": fname}\n",
    "                db.thousand.insert_one(KyotoImageList)  \n",
    "            except:\n",
    "                pass"
   ]
  },
  {
   "cell_type": "code",
   "execution_count": 14,
   "metadata": {
    "collapsed": true
   },
   "outputs": [],
   "source": [
    "def trainstation(api_key,location = \"京都火車站\",bucketname = \"trainstation\"):      \n",
    "    fs = gridfs.GridFS(db, bucketname) # 連接database, 並命名bucket\n",
    "\n",
    "    for i in range(1,41):    \n",
    "        url = \"https://api.flickr.com/services/rest?sort=relevance&parse_tags=1&content_type=7&extras=can_comment%2Ccount_comments%2Ccount_faves%2Cdescription%2Cisfavorite%2Clicense%2Cmedia%2Cneeds_interstitial%2Cowner_name%2Cpath_alias%2Crealname%2Crotation%2Curl_c%2Curl_l%2Curl_m%2Curl_n%2Curl_q%2Curl_s%2Curl_sq%2Curl_t%2Curl_z&per_page=100&page={}&lang=zh-Hant-HK&text={}&viewerNSID=&method=flickr.photos.search&csrf=&api_key={}&format=json&hermes=1&hermesClient=1&reqId=c40b0214&nojsoncallback=1\".format(i,location,api_key)\n",
    "        res = requests.get(url)\n",
    "        res.text\n",
    "        img_lish = res.json()['photos']['photo']\n",
    "        imgurl=[]\n",
    "\n",
    "        for image in img_lish:\n",
    "            try:\n",
    "                image['url_m_cdn']\n",
    "                imgurl.append(image['url_m_cdn'])\n",
    "            except:\n",
    "                pass\n",
    "        for img in imgurl:\n",
    "            try:\n",
    "                fname = img.split(\"/\")[-1]\n",
    "                print(fname)\n",
    "                imgsave = requests.get(img, stream = True) \n",
    "                filelocation = \"D:\\Project_Image\\京都火車站\\{}\".format(fname)\n",
    "                f = open(filelocation, 'wb') # 創建檔案，並且用w binary的方法寫入\n",
    "                shutil.copyfileobj(imgsave.raw, f) # 將imgsave裡的資料by raw copy到檔案f之中\n",
    "                f.close # 關閉檔案\n",
    "                del imgsave # 把暫存資料清空\n",
    "\n",
    "                KyotoImageList = {\"location\": \"京都火車站\",\"filelocation\": filelocation,\"tags\": \"京都火車站\",\"filename\": fname}\n",
    "                db.trainstation.insert_one(KyotoImageList)  \n",
    "            except:\n",
    "                pass"
   ]
  },
  {
   "cell_type": "code",
   "execution_count": 15,
   "metadata": {
    "collapsed": true
   },
   "outputs": [],
   "source": [
    "def twobow(api_key,location = \"二條城\",bucketname = \"twobow\"):      \n",
    "    for i in range(1,41):    \n",
    "        url = \"https://api.flickr.com/services/rest?sort=relevance&parse_tags=1&content_type=7&extras=can_comment%2Ccount_comments%2Ccount_faves%2Cdescription%2Cisfavorite%2Clicense%2Cmedia%2Cneeds_interstitial%2Cowner_name%2Cpath_alias%2Crealname%2Crotation%2Curl_c%2Curl_l%2Curl_m%2Curl_n%2Curl_q%2Curl_s%2Curl_sq%2Curl_t%2Curl_z&per_page=100&page={}&lang=zh-Hant-HK&text={}&viewerNSID=&method=flickr.photos.search&csrf=&api_key={}&format=json&hermes=1&hermesClient=1&reqId=c40b0214&nojsoncallback=1\".format(i,location,api_key)\n",
    "        res = requests.get(url)\n",
    "        res.text\n",
    "        img_lish = res.json()['photos']['photo']\n",
    "        imgurl=[]\n",
    "\n",
    "        for image in img_lish:\n",
    "            try:\n",
    "                image['url_m_cdn']\n",
    "                imgurl.append(image['url_m_cdn'])\n",
    "            except:\n",
    "                pass\n",
    "        for img in imgurl:\n",
    "            try:\n",
    "                fname = img.split(\"/\")[-1]\n",
    "                print(fname)\n",
    "                imgsave = requests.get(img, stream = True) \n",
    "                filelocation = \"D:\\Project_Image\\二條城\\{}\".format(fname)\n",
    "                f = open(filelocation, 'wb') # 創建檔案，並且用w binary的方法寫入\n",
    "                shutil.copyfileobj(imgsave.raw, f) # 將imgsave裡的資料by raw copy到檔案f之中\n",
    "                f.close # 關閉檔案\n",
    "                del imgsave # 把暫存資料清空\n",
    "\n",
    "                KyotoImageList = {\"location\": \"二條城\",\"filelocation\": filelocation,\"tags\": \"二條城\",\"filename\": fname}\n",
    "                db.twobow.insert_one(KyotoImageList)  \n",
    "            except:\n",
    "                pass"
   ]
  },
  {
   "cell_type": "code",
   "execution_count": 16,
   "metadata": {
    "collapsed": true
   },
   "outputs": [],
   "source": [
    "def kinghouse(api_key,location = \"京都御所\",bucketname = \"kinghouse\"):     \n",
    "    fs = gridfs.GridFS(db, bucketname) # 連接database, 並命名bucket\n",
    "    for i in range(1,41):    \n",
    "        url = \"https://api.flickr.com/services/rest?sort=relevance&parse_tags=1&content_type=7&extras=can_comment%2Ccount_comments%2Ccount_faves%2Cdescription%2Cisfavorite%2Clicense%2Cmedia%2Cneeds_interstitial%2Cowner_name%2Cpath_alias%2Crealname%2Crotation%2Curl_c%2Curl_l%2Curl_m%2Curl_n%2Curl_q%2Curl_s%2Curl_sq%2Curl_t%2Curl_z&per_page=100&page={}&lang=zh-Hant-HK&text={}&viewerNSID=&method=flickr.photos.search&csrf=&api_key={}&format=json&hermes=1&hermesClient=1&reqId=c40b0214&nojsoncallback=1\".format(i,location,api_key)\n",
    "        res = requests.get(url)\n",
    "        res.text\n",
    "        img_lish = res.json()['photos']['photo']\n",
    "        imgurl=[]\n",
    "\n",
    "        for image in img_lish:\n",
    "            try:\n",
    "                image['url_m_cdn']\n",
    "                imgurl.append(image['url_m_cdn'])\n",
    "            except:\n",
    "                pass\n",
    "        for img in imgurl:\n",
    "            try:\n",
    "                fname = img.split(\"/\")[-1]\n",
    "                print(fname)\n",
    "                imgsave = requests.get(img, stream = True) \n",
    "                filelocation = \"D:\\Project_Image\\京都御所\\{}\".format(fname)\n",
    "                f = open(filelocation, 'wb') # 創建檔案，並且用w binary的方法寫入\n",
    "                shutil.copyfileobj(imgsave.raw, f) # 將imgsave裡的資料by raw copy到檔案f之中\n",
    "                f.close # 關閉檔案\n",
    "                del imgsave # 把暫存資料清空\n",
    "\n",
    "                KyotoImageList = {\"location\": \"京都御所\",\"filelocation\": filelocation,\"tags\": \"京都御所\",\"filename\": fname}\n",
    "                db.kinghouse.insert_one(KyotoImageList)  \n",
    "            except:\n",
    "                pass"
   ]
  },
  {
   "cell_type": "code",
   "execution_count": 17,
   "metadata": {
    "collapsed": true
   },
   "outputs": [],
   "source": [
    "def pingdan(api_key,location = \"平等院\",bucketname = \"pingdan\"):      \n",
    "    fs = gridfs.GridFS(db, bucketname) # 連接database, 並命名bucket\n",
    "    for i in range(1,41):    \n",
    "        url = \"https://api.flickr.com/services/rest?sort=relevance&parse_tags=1&content_type=7&extras=can_comment%2Ccount_comments%2Ccount_faves%2Cdescription%2Cisfavorite%2Clicense%2Cmedia%2Cneeds_interstitial%2Cowner_name%2Cpath_alias%2Crealname%2Crotation%2Curl_c%2Curl_l%2Curl_m%2Curl_n%2Curl_q%2Curl_s%2Curl_sq%2Curl_t%2Curl_z&per_page=100&page={}&lang=zh-Hant-HK&text={}&viewerNSID=&method=flickr.photos.search&csrf=&api_key={}&format=json&hermes=1&hermesClient=1&reqId=c40b0214&nojsoncallback=1\".format(i,location,api_key)\n",
    "        res = requests.get(url)\n",
    "        res.text\n",
    "        img_lish = res.json()['photos']['photo']\n",
    "        imgurl=[]\n",
    "\n",
    "        for image in img_lish:\n",
    "            try:\n",
    "                image['url_m_cdn']\n",
    "                imgurl.append(image['url_m_cdn'])\n",
    "            except:\n",
    "                pass\n",
    "        for img in imgurl:\n",
    "            try:\n",
    "                fname = img.split(\"/\")[-1]\n",
    "                print(fname)\n",
    "                imgsave = requests.get(img, stream = True) \n",
    "                filelocation = \"D:\\Project_Image\\平等院\\{}\".format(fname)\n",
    "                f = open(filelocation, 'wb') # 創建檔案，並且用w binary的方法寫入\n",
    "                shutil.copyfileobj(imgsave.raw, f) # 將imgsave裡的資料by raw copy到檔案f之中\n",
    "                f.close # 關閉檔案\n",
    "                del imgsave # 把暫存資料清空\n",
    "\n",
    "                KyotoImageList = {\"location\": \"平等院\",\"filelocation\": filelocation,\"tags\": \"平等院\",\"filename\": fname}\n",
    "                db.pingdan.insert_one(KyotoImageList)  \n",
    "            except:\n",
    "                pass"
   ]
  },
  {
   "cell_type": "code",
   "execution_count": 18,
   "metadata": {
    "collapsed": true
   },
   "outputs": [],
   "source": [
    "# cleanwater 清水寺\n",
    "# dragon 龍安寺\n",
    "# bridge 渡月橋\n",
    "# golden 金閣寺\n",
    "\n",
    "# kyototower 京都塔\n",
    "# thirtythree 三十三階堂\n",
    "# thousand 千本鳥居\n",
    "# trainstation 京都火車站\n",
    "# twobow 二條城\n",
    "# kinghouse 京都御所\n",
    "# pingdan 平等院\n"
   ]
  },
  {
   "cell_type": "code",
   "execution_count": null,
   "metadata": {
    "collapsed": true
   },
   "outputs": [],
   "source": []
  },
  {
   "cell_type": "code",
   "execution_count": 19,
   "metadata": {
    "collapsed": true
   },
   "outputs": [],
   "source": [
    "def crawlerall(api_key):\n",
    "    with concurrent.futures.ThreadPoolExecutor(max_workers=6) as executor: # 高併發\n",
    "        cleanwater(api_key)\n",
    "        dragon(api_key)\n",
    "        bridge(api_key)\n",
    "        golden(api_key)\n",
    "        thirtythree(api_key)\n",
    "        thousand(api_key)\n",
    "        trainstation(api_key)\n",
    "        twobow(api_key)\n",
    "        kinghouse(api_key)\n",
    "        pingdan(api_key)"
   ]
  },
  {
   "cell_type": "code",
   "execution_count": null,
   "metadata": {},
   "outputs": [
    {
     "name": "stdout",
     "output_type": "stream",
     "text": [
      "33738690322_32debb6657.jpg\n",
      "6715064197_9c2cce1dbd.jpg\n",
      "15617907747_0bb7bb07a8.jpg\n",
      "15617908917_cee631a22b.jpg\n",
      "5578143616_4619f59ef9.jpg\n",
      "15617594940_5536a16537.jpg\n",
      "5578141836_d43b24c0f0.jpg\n",
      "15834555015_530310abfa.jpg\n",
      "15617594920_ca43aa0825.jpg\n",
      "5577552737_5cbc8ea26b.jpg\n"
     ]
    }
   ],
   "source": [
    "crawlerall(api_key=\"6f1ca1bbd4ff5edc65dcd12e6040384e\")"
   ]
  },
  {
   "cell_type": "code",
   "execution_count": null,
   "metadata": {
    "collapsed": true
   },
   "outputs": [],
   "source": []
  },
  {
   "cell_type": "code",
   "execution_count": null,
   "metadata": {
    "collapsed": true
   },
   "outputs": [],
   "source": []
  },
  {
   "cell_type": "code",
   "execution_count": null,
   "metadata": {
    "collapsed": true
   },
   "outputs": [],
   "source": []
  },
  {
   "cell_type": "code",
   "execution_count": null,
   "metadata": {
    "collapsed": true
   },
   "outputs": [],
   "source": []
  }
 ],
 "metadata": {
  "kernelspec": {
   "display_name": "Python 3",
   "language": "python",
   "name": "python3"
  },
  "language_info": {
   "codemirror_mode": {
    "name": "ipython",
    "version": 3
   },
   "file_extension": ".py",
   "mimetype": "text/x-python",
   "name": "python",
   "nbconvert_exporter": "python",
   "pygments_lexer": "ipython3",
   "version": "3.6.1"
  }
 },
 "nbformat": 4,
 "nbformat_minor": 2
}
