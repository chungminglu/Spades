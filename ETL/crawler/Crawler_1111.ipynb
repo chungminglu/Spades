{
 "cells": [
  {
   "cell_type": "code",
   "execution_count": 2,
   "metadata": {
    "collapsed": true
   },
   "outputs": [],
   "source": [
    "import requests,re\n",
    "from bs4 import BeautifulSoup\n",
    "from collections import Counter"
   ]
  },
  {
   "cell_type": "code",
   "execution_count": 3,
   "metadata": {},
   "outputs": [
    {
     "data": {
      "text/plain": [
       "2310"
      ]
     },
     "execution_count": 3,
     "metadata": {},
     "output_type": "execute_result"
    }
   ],
   "source": [
    "url = \"https://www.1111.com.tw/job-bank/job-index.asp?si=1&ss=s&ks=%E7%A8%8B%E5%BC%8F%E8%A8%AD%E8%A8%88%E5%B8%AB&ps=100&page=1\"\n",
    "res = requests.get(url)\n",
    "soup = BeautifulSoup(res.text,'lxml')\n",
    "totalinfo = int(re.findall(\"\\d+\",soup.select(\"ul > .jbdata\")[0].text.replace(\",\",\"\"))[0])\n",
    "totalinfo #總筆數"
   ]
  },
  {
   "cell_type": "code",
   "execution_count": 4,
   "metadata": {},
   "outputs": [
    {
     "data": {
      "text/plain": [
       "23"
      ]
     },
     "execution_count": 4,
     "metadata": {},
     "output_type": "execute_result"
    }
   ],
   "source": [
    "#總頁數\n",
    "totalpage = int(totalinfo / (100+3)) + 1\n",
    "totalpage"
   ]
  },
  {
   "cell_type": "code",
   "execution_count": 75,
   "metadata": {},
   "outputs": [
    {
     "name": "stdout",
     "output_type": "stream",
     "text": [
      "[('java script', 337), ('html', 269), ('java', 254), ('ms sql', 232), ('asp.net', 228), ('jquery', 213), ('mysql', 201), ('c#.net', 200), ('php', 175), ('excel', 140)]\n"
     ]
    }
   ],
   "source": [
    "cnt = Counter()\n",
    "for i in range(1,totalpage+1):\n",
    "    urls = \"https://www.1111.com.tw/job-bank/job-index.asp?si=1&ss=s&ks=%E7%A8%8B%E5%BC%8F%E8%A8%AD%E8%A8%88%E5%B8%AB&ps=100&page={}\".format(i)\n",
    "    res = requests.get(urls)\n",
    "    soup = BeautifulSoup(res.text,'lxml')\n",
    "    page_total_link = int(len(soup.select(\".jbInfoin > h3 > a\")))\n",
    "    \n",
    "    for n in range(0,page_total_link):\n",
    "        all_link = (\"https:\" + soup.select(\"h3 > a\")[n]['href'])\n",
    "        position = soup.select(\"h3 > a\")[n]['title']\n",
    "        res2 = requests.get(all_link)\n",
    "        soup2 = BeautifulSoup(res2.text,'lxml')\n",
    "        try:\n",
    "            pcskill = soup2.select(\"article.boxsize\")[0].text.strip().split(\"電腦專長：\")[1]\n",
    "            pcskill = pcskill.lower()\n",
    "            if \"附加條件\" in pcskill:\n",
    "                for skill in pcskill.split(\"附加條件\")[0].split('、'):\n",
    "                    if skill in cnt:\n",
    "                        cnt[skill] += 1\n",
    "                    else:\n",
    "                        cnt[skill] = 1\n",
    "            else:\n",
    "                for skill in pcskill.split('、'):\n",
    "                    if needskill in cnt:\n",
    "                        cnt[skill] += 1\n",
    "                    else:\n",
    "                        cnt[skill] = 1\n",
    "            \n",
    "        except:\n",
    "            pass\n",
    "print (cnt.most_common(10))"
   ]
  },
  {
   "cell_type": "code",
   "execution_count": null,
   "metadata": {},
   "outputs": [],
   "source": [
    "bbb = {1:kk,2:bb}\n",
    "bbb"
   ]
  },
  {
   "cell_type": "code",
   "execution_count": null,
   "metadata": {
    "collapsed": true
   },
   "outputs": [],
   "source": []
  }
 ],
 "metadata": {
  "kernelspec": {
   "display_name": "Python 3",
   "language": "python",
   "name": "python3"
  },
  "language_info": {
   "codemirror_mode": {
    "name": "ipython",
    "version": 3
   },
   "file_extension": ".py",
   "mimetype": "text/x-python",
   "name": "python",
   "nbconvert_exporter": "python",
   "pygments_lexer": "ipython3",
   "version": "3.6.1"
  }
 },
 "nbformat": 4,
 "nbformat_minor": 2
}
