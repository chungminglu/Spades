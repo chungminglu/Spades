{
 "cells": [
  {
   "cell_type": "markdown",
   "metadata": {},
   "source": [
    "## 先尋找職業所需的工作技能"
   ]
  },
  {
   "cell_type": "markdown",
   "metadata": {},
   "source": [
    "## 先爬取外層頁"
   ]
  },
  {
   "cell_type": "code",
   "execution_count": 2,
   "metadata": {
    "collapsed": true
   },
   "outputs": [],
   "source": [
    "import requests\n",
    "import re\n",
    "from bs4 import BeautifulSoup\n",
    "import jieba\n",
    "from jieba.analyse import extract_tags\n",
    "from collections import Counter\n",
    "import json"
   ]
  },
  {
   "cell_type": "code",
   "execution_count": 3,
   "metadata": {
    "collapsed": true
   },
   "outputs": [],
   "source": [
    "#取得爬取網頁資訊所需的form data\n",
    "payload = \"\"\"find_key1:{}\n",
    "strrec:\n",
    "search_key_word:{}\n",
    "search_type:job\n",
    "us_menu:\n",
    "search_item:1\n",
    "search_from:index\"\"\".format(\"程式設計師\",\"程式設計師\")  #format內容為要查詢的職業"
   ]
  },
  {
   "cell_type": "code",
   "execution_count": 4,
   "metadata": {
    "collapsed": true
   },
   "outputs": [],
   "source": [
    "#使用一個function將form data轉換成dict的key-value pair才可放到requests的query中\n",
    "def str2dict(data_str):\n",
    "    data = {}\n",
    "    for row in data_str.split('\\n'):\n",
    "        kv_list = row.split(\":\")\n",
    "        data[kv_list[0]] = kv_list[1]\n",
    "    return data"
   ]
  },
  {
   "cell_type": "code",
   "execution_count": 5,
   "metadata": {},
   "outputs": [
    {
     "data": {
      "text/plain": [
       "{'find_key1': '程式設計師',\n",
       " 'search_from': 'index',\n",
       " 'search_item': '1',\n",
       " 'search_key_word': '程式設計師',\n",
       " 'search_type': 'job',\n",
       " 'strrec': '',\n",
       " 'us_menu': ''}"
      ]
     },
     "execution_count": 5,
     "metadata": {},
     "output_type": "execute_result"
    }
   ],
   "source": [
    "#測試一下看form data是否正確轉換成dict的key-value pair\n",
    "data = str2dict(payload)\n",
    "data"
   ]
  },
  {
   "cell_type": "code",
   "execution_count": 6,
   "metadata": {
    "collapsed": true
   },
   "outputs": [],
   "source": [
    "def total_pages(html,formdata):\n",
    "    formdata = str2dict(formdata)\n",
    "    res = requests.post(html,data = formdata)\n",
    "    res.encoding = 'utf8'\n",
    "    soup = BeautifulSoup(res.text,'lxml')\n",
    "    td_tag = soup.select_one('#top_title').find(lambda x: x.get('align') == 'right')\n",
    "    pages = int(re.findall('\\d+',td_tag.text)[2])\n",
    "    return pages"
   ]
  },
  {
   "cell_type": "code",
   "execution_count": 7,
   "metadata": {
    "collapsed": true
   },
   "outputs": [],
   "source": [
    "all_pages = total_pages(\"https://www.yes123.com.tw/admin/job_refer_list.asp\",payload)"
   ]
  },
  {
   "cell_type": "code",
   "execution_count": 8,
   "metadata": {},
   "outputs": [
    {
     "data": {
      "text/plain": [
       "<td align=\"right\">\n",
       "                            403 筆，\n",
       "\t\t\t\t\t\t\t第1 / 21頁\n",
       "\t\t\t\t\t</td>"
      ]
     },
     "execution_count": 8,
     "metadata": {},
     "output_type": "execute_result"
    }
   ],
   "source": [
    "# Pagination\n",
    "\n",
    "res = requests.post(\"https://www.yes123.com.tw/admin/job_refer_list.asp\",data=data)\n",
    "res.encoding = 'utf8'\n",
    "soup = BeautifulSoup(res.text,'lxml')\n",
    "td_tag = soup.select_one(\"#top_title\").find(lambda x: x.get('align') == 'right')\n",
    "td_tag"
   ]
  },
  {
   "cell_type": "code",
   "execution_count": 9,
   "metadata": {},
   "outputs": [
    {
     "data": {
      "text/plain": [
       "403"
      ]
     },
     "execution_count": 9,
     "metadata": {},
     "output_type": "execute_result"
    }
   ],
   "source": [
    "total_records = int(re.findall('\\d+',td_tag.text)[0])\n",
    "total_records"
   ]
  },
  {
   "cell_type": "code",
   "execution_count": 10,
   "metadata": {},
   "outputs": [
    {
     "data": {
      "text/plain": [
       "21"
      ]
     },
     "execution_count": 10,
     "metadata": {},
     "output_type": "execute_result"
    }
   ],
   "source": [
    "#算出總頁數\n",
    "total_page = int(total_records / 20) + 1\n",
    "total_page"
   ]
  },
  {
   "cell_type": "code",
   "execution_count": 11,
   "metadata": {},
   "outputs": [
    {
     "data": {
      "text/plain": [
       "3"
      ]
     },
     "execution_count": 11,
     "metadata": {},
     "output_type": "execute_result"
    }
   ],
   "source": [
    "#算出最後一頁有幾筆\n",
    "last_page = int(total_records % 20)\n",
    "last_page"
   ]
  },
  {
   "cell_type": "code",
   "execution_count": 12,
   "metadata": {
    "collapsed": true
   },
   "outputs": [],
   "source": [
    "Links = []\n",
    "for i in range(0,all_pages):\n",
    "    data['strrec'] = i*20\n",
    "    # data = str2dict(payload)\n",
    "    # data\n",
    "\n",
    "    res = requests.post(\"https://www.yes123.com.tw/admin/job_refer_list.asp\",data=data)\n",
    "    res.encoding = 'utf8'\n",
    "    #     res.text\n",
    "\n",
    "    soup = BeautifulSoup(res.text,'lxml')\n",
    "        # 取得所有工作職缺\n",
    "    titles =[job['title'] for job in soup.select('a.jobname')]\n",
    "\n",
    "\n",
    "        # 取得所有工作職缺的連結\n",
    "    urls = [job['href'] for job in soup.select('a.jobname')]\n",
    "    uri = \"https://www.yes123.com.tw/admin/\"\n",
    "    for links in urls:\n",
    "        Links.append(uri+links)\n",
    "#     job_list = []\n",
    "#     for title,url in zip(titles, urls):\n",
    "#         job_dict = {}\n",
    "#         job_dict['title']  = title\n",
    "#         job_dict['url'] = uri + url\n",
    "#         job_list.append(job_dict)\n",
    "#     Links.append(job_list)\n",
    "# Links\n",
    "#         Links.append(job_list)\n"
   ]
  },
  {
   "cell_type": "code",
   "execution_count": 13,
   "metadata": {},
   "outputs": [
    {
     "data": {
      "text/plain": [
       "403"
      ]
     },
     "execution_count": 13,
     "metadata": {},
     "output_type": "execute_result"
    }
   ],
   "source": [
    "len(Links)"
   ]
  },
  {
   "cell_type": "code",
   "execution_count": 14,
   "metadata": {},
   "outputs": [],
   "source": [
    "cnt = Counter()\n",
    "notChinese = re.compile('[0-9a-zA-Z#.]')\n",
    "for Link in Links:\n",
    "    try:\n",
    "        all_links = Link\n",
    "        url2 = all_links\n",
    "        res2 = requests.get(url2)\n",
    "        soup = BeautifulSoup(res2.text, 'lxml')\n",
    "           \n",
    "\n",
    "        for pcskill in soup.select('.comp_detail > ul > li'):\n",
    "            \n",
    "            if re.findall('電腦技能|工作技能',pcskill.text) and not re.findall('\\d+\\.',pcskill.text) :\n",
    "                skill =pcskill.text.replace('、',',').replace('：',',').replace('/',',').replace('／',',').replace(',,',',').replace(\"\\n\",\",\").replace(\" \",\",\").strip()\n",
    "                \n",
    "#                 print(skill.split(','))\n",
    "\n",
    "                for skills in skill.split(','):\n",
    "                    skills = \"\".join(notChinese.findall(skills))\n",
    "#                     if re.findall('\\w+',skills):\n",
    "                    skills =skills.lower()\n",
    "                    \n",
    "                    if skills in cnt:\n",
    "                        cnt[skills] += 1\n",
    "                    else:\n",
    "                        cnt[skills] = 1\n",
    "#                             print (skills)\n",
    "             \n",
    "    except:\n",
    "        pass\n",
    "\n",
    "# print (cnt.most_common(100)[1:]) #因為第一名為沒有特別註記所需技能所以跳過\n",
    "                    "
   ]
  },
  {
   "cell_type": "code",
   "execution_count": 15,
   "metadata": {
    "collapsed": true
   },
   "outputs": [],
   "source": [
    "import json\n",
    "json.dump(cnt.most_common(100),open(\"Yes123_JobCount.json\",\"w\"),ensure_ascii=False)"
   ]
  },
  {
   "cell_type": "code",
   "execution_count": null,
   "metadata": {
    "collapsed": true
   },
   "outputs": [],
   "source": []
  }
 ],
 "metadata": {
  "kernelspec": {
   "display_name": "Python 3",
   "language": "python",
   "name": "python3"
  },
  "language_info": {
   "codemirror_mode": {
    "name": "ipython",
    "version": 3
   },
   "file_extension": ".py",
   "mimetype": "text/x-python",
   "name": "python",
   "nbconvert_exporter": "python",
   "pygments_lexer": "ipython3",
   "version": "3.6.1"
  }
 },
 "nbformat": 4,
 "nbformat_minor": 2
}
