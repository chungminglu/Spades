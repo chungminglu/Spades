{
 "cells": [
  {
   "cell_type": "code",
   "execution_count": 1,
   "metadata": {},
   "outputs": [
    {
     "name": "stdout",
     "output_type": "stream",
     "text": [
      "Requirement already satisfied: splinter in c:\\users\\java\\anaconda3\\lib\\site-packages\n",
      "Requirement already satisfied: selenium>=2.53.6 in c:\\users\\java\\anaconda3\\lib\\site-packages (from splinter)\n"
     ]
    }
   ],
   "source": [
    "import requests\n",
    "from bs4 import BeautifulSoup\n",
    "!pip install splinter"
   ]
  },
  {
   "cell_type": "code",
   "execution_count": 2,
   "metadata": {
    "collapsed": true
   },
   "outputs": [],
   "source": [
    "import json\n",
    "import os"
   ]
  },
  {
   "cell_type": "code",
   "execution_count": 3,
   "metadata": {
    "collapsed": true
   },
   "outputs": [],
   "source": [
    "import pymongo\n",
    "from pymongo import MongoClient"
   ]
  },
  {
   "cell_type": "code",
   "execution_count": 4,
   "metadata": {
    "collapsed": true
   },
   "outputs": [],
   "source": [
    "client = MongoClient('localhost', 27017)\n",
    "db = client.KyotoImage\n",
    "collection = db.bridge"
   ]
  },
  {
   "cell_type": "code",
   "execution_count": 5,
   "metadata": {
    "collapsed": true
   },
   "outputs": [],
   "source": [
    "import datetime\n",
    "KyotoImageList = {}"
   ]
  },
  {
   "cell_type": "code",
   "execution_count": 6,
   "metadata": {},
   "outputs": [
    {
     "ename": "SyntaxError",
     "evalue": "unexpected EOF while parsing (<ipython-input-6-c7edde8da235>, line 4)",
     "output_type": "error",
     "traceback": [
      "\u001b[1;36m  File \u001b[1;32m\"<ipython-input-6-c7edde8da235>\"\u001b[1;36m, line \u001b[1;32m4\u001b[0m\n\u001b[1;33m    \"filename\": fname\u001b[0m\n\u001b[1;37m                     ^\u001b[0m\n\u001b[1;31mSyntaxError\u001b[0m\u001b[1;31m:\u001b[0m unexpected EOF while parsing\n"
     ]
    }
   ],
   "source": [
    "KyotoImageList = {\"location\": \"渡月橋\",\n",
    "         \"filelocation\": filelocation,\n",
    "         \"tags\": \"渡月橋\",\n",
    "         \"filename\": fname"
   ]
  },
  {
   "cell_type": "code",
   "execution_count": null,
   "metadata": {
    "collapsed": true
   },
   "outputs": [],
   "source": []
  },
  {
   "cell_type": "code",
   "execution_count": null,
   "metadata": {},
   "outputs": [
    {
     "name": "stdout",
     "output_type": "stream",
     "text": [
      "3078692402_90628d6e5f.jpg\n"
     ]
    },
    {
     "name": "stderr",
     "output_type": "stream",
     "text": [
      "C:\\Users\\Java\\Anaconda3\\lib\\site-packages\\ipykernel_launcher.py:30: DeprecationWarning: insert is deprecated. Use insert_one or insert_many instead.\n"
     ]
    },
    {
     "name": "stdout",
     "output_type": "stream",
     "text": [
      "276037961_ffa0ce3f57.jpg\n",
      "5693025776_6ed76c41eb.jpg\n",
      "5692456219_c4c6e256c7.jpg\n",
      "4084082353_083d5207df.jpg\n",
      "2874825635_a8b20323ce.jpg\n",
      "16537967052_14ee5203b6.jpg\n",
      "16362492669_e839bb386d.jpg\n",
      "927874924_4c68468b69.jpg\n",
      "6952722006_0d66a2ae89.jpg\n",
      "6457209393_8900b09569.jpg\n",
      "4045542873_99b0dcf4e9.jpg\n",
      "15697067819_8de138a286.jpg\n",
      "3928231347_7f72e0b182.jpg\n",
      "8703277437_7860ceec73.jpg\n",
      "2398311860_c60fbc20d7.jpg\n",
      "8703261527_47b1d0da43.jpg\n",
      "8704385720_a1668fb7d2.jpg\n",
      "8704381322_2db4c2515e.jpg\n",
      "8703262303_d3180ff307.jpg\n",
      "14696908404_16eddd86bd.jpg\n",
      "2196740255_1e1bee3df6.jpg\n",
      "8703265903_e127717c51.jpg\n",
      "8704401644_a89b949b52.jpg\n",
      "15697065259_a1a3539279.jpg\n",
      "8704374652_9d3c58f568.jpg\n",
      "2196739933_efed811464.jpg\n",
      "3929013968_86d2d2fe26.jpg\n",
      "8704371992_f39f1d282c.jpg\n",
      "2196738575_c3a88b6f5e.jpg\n",
      "7157706438_729c1d4fbb.jpg\n",
      "8704371004_328c421cdf.jpg\n",
      "534398490_6c02a568e9.jpg\n",
      "8703259255_189aa0b01f.jpg\n",
      "4410006613_cff3e7af7a.jpg\n",
      "8704372970_ce902221b6.jpg\n",
      "8703257603_ec713e86a1.jpg\n",
      "2196738847_9c0b16caa0.jpg\n",
      "2196740955_1789833676.jpg\n",
      "5214567088_4db0d4b6f3.jpg\n",
      "2197530516_d800834116.jpg\n",
      "35418780875_c6f0383787.jpg\n",
      "4580610724_0a26429265.jpg\n",
      "2196744667_719fe7bfd2.jpg\n",
      "2196741935_93f1646f3a.jpg\n",
      "15912375962_b97af0435f.jpg\n",
      "35222036826_6c4d10a025.jpg\n",
      "2196744299_2d66b86748.jpg\n",
      "5214565766_c9c12c94c5.jpg\n",
      "2197522922_6b5be126fe.jpg\n",
      "2061507307_c981e65f53.jpg\n",
      "5214570218_bf66e8749f.jpg\n",
      "35418777205_c6603632d6.jpg\n",
      "2196735135_83c50293ea.jpg\n",
      "7795084182_c2a0623fc4.jpg\n",
      "5214552988_20dd783dda.jpg\n",
      "2197524962_2c455724de.jpg\n",
      "5214562808_d61cf78286.jpg\n",
      "4419696960_fd8fc94d59.jpg\n",
      "4161615451_ff1b36b372.jpg\n",
      "2196741275_29ae82c268.jpg\n",
      "2196737947_4285702bda.jpg\n",
      "2197522364_b6df9fc18f.jpg\n",
      "2197526008_0989e6027d.jpg\n",
      "5213982013_b2e5a4c87f.jpg\n",
      "4579978789_3bdba6653f.jpg\n",
      "2196738273_1326536fb2.jpg\n",
      "2196736743_2d4de67953.jpg\n",
      "4579978999_ac57234964.jpg\n",
      "5214574214_97348f7443.jpg\n",
      "15727000589_673058a558.jpg\n",
      "2197529432_f920b2b390.jpg\n",
      "2197531326_b3ab57f57f.jpg\n",
      "2197525772_06705b45e8.jpg\n",
      "2196735855_ac593a0808.jpg\n",
      "2196733907_c9e23455d3.jpg\n",
      "2196734551_99a04ec9ef.jpg\n",
      "2196744995_2f47c6b948.jpg\n",
      "2196739587_141ba450f3.jpg\n",
      "7948744062_785e541d82.jpg\n",
      "2196743539_6b2d08eb1a.jpg\n",
      "13888729182_ce7c2735b4.jpg\n",
      "2463762187_931078dc55.jpg\n",
      "2197531664_fb138f0a4d.jpg\n",
      "2197525222_70ed0866b1.jpg\n",
      "2197524220_03b63fb8ba.jpg\n",
      "15695778520_a166f59323.jpg\n",
      "4580612456_24cf887947.jpg\n",
      "5213948503_623c3af6cc.jpg\n",
      "8499220471_a745785a6c.jpg\n",
      "2523886796_e9910bb59c.jpg\n",
      "2197526386_91f915323e.jpg\n",
      "35262436775_934031068d.jpg\n",
      "14052860284_5b549f8a8f.jpg\n",
      "3018334093_80e22231ba.jpg\n",
      "8499221121_8c0c0b4261.jpg\n",
      "2196743045_cde3d6cbfa.jpg\n",
      "35289047001_905c20983a.jpg\n",
      "4139867797_99184038a9.jpg\n",
      "2197523634_f92cb102d2.jpg\n",
      "8500326662_e394845bb8.jpg\n",
      "8499220129_61cd8813de.jpg\n",
      "8500327638_ab90637858.jpg\n",
      "5862312549_fc3ce010f3.jpg\n",
      "8499219883_4e7d5ae954.jpg\n",
      "8243828536_ce7529a663.jpg\n",
      "5213965505_8758093267.jpg\n",
      "2523886610_0615127534.jpg\n",
      "8247861697_b7a833eaf2.jpg\n",
      "8703274559_52c7a33b5b.jpg\n",
      "8499220299_5d3d015984.jpg\n",
      "17481920085_08e94e4452.jpg\n",
      "4579980033_cea4100bc9.jpg\n",
      "8500326280_50dfbd4c06.jpg\n",
      "4163366138_c203005d2f.jpg\n",
      "4675471856_bfe2ab7d5c.jpg\n",
      "8500327220_46f15a8c49.jpg\n",
      "4579979763_536d65a11e.jpg\n",
      "8499219833_2117924e9b.jpg\n",
      "7795085506_9c85b576ee.jpg\n",
      "5214540944_19bb4696ca.jpg\n",
      "4162539031_826c48cc26.jpg\n",
      "4580611400_fbfc1d3ddd.jpg\n",
      "863584798_6b4f92cf8a.jpg\n",
      "8499221203_7e1481d424.jpg\n",
      "16861603943_ca43209cc3.jpg\n",
      "17479796462_53e625c852.jpg\n"
     ]
    }
   ],
   "source": [
    "import shutil # 把資料copy到檔案裡\n",
    "\n",
    "               \n",
    "for i in range(1,101):\n",
    "    \n",
    "    url = \"https://api.flickr.com/services/rest?sort=relevance&parse_tags=1&content_type=7&extras=can_comment%2Ccount_comments%2Ccount_faves%2Cdescription%2Cisfavorite%2Clicense%2Cmedia%2Cneeds_interstitial%2Cowner_name%2Cpath_alias%2Crealname%2Crotation%2Curl_c%2Curl_l%2Curl_m%2Curl_n%2Curl_q%2Curl_s%2Curl_sq%2Curl_t%2Curl_z&per_page=100&page={}&lang=zh-Hant-HK&text={}&viewerNSID=&method=flickr.photos.search&csrf=&api_key=6f1ca1bbd4ff5edc65dcd12e6040384e&format=json&hermes=1&hermesClient=1&reqId=c40b0214&nojsoncallback=1\".format(i,\"渡月橋\")\n",
    "    res = requests.get(url)\n",
    "    res.text\n",
    "    img_lish = res.json()['photos']['photo']\n",
    "    imgurl=[]\n",
    "    \n",
    "    for image in img_lish:\n",
    "        try:\n",
    "            image['url_m_cdn']\n",
    "            imgurl.append(image['url_m_cdn'])\n",
    "        except:\n",
    "            pass\n",
    "    for img in imgurl:\n",
    "        try:\n",
    "            fname = img.split(\"/\")[-1]\n",
    "            print(fname)\n",
    "            imgsave = requests.get(img, stream = True) \n",
    "            filelocation = \"D:\\Project_Image\\渡月橋\\{}\".format(fname)\n",
    "            f = open(filelocation, 'wb') # 創建檔案，並且用w binary的方法寫入\n",
    "            shutil.copyfileobj(imgsave.raw, f) # 將imgsave裡的資料by raw copy到檔案f之中\n",
    "            f.close # 關閉檔案\n",
    "            del imgsave # 把暫存資料清空\n",
    "            \n",
    "            KyotoImageList = {\"location\": \"渡月橋\",\"filelocation\": filelocation,\"tags\": \"渡月橋\",\"filename\": fname}\n",
    "            db.bridge.insert_one(KyotoImageList)   \n",
    "            \n",
    "            \n",
    "        except:\n",
    "            pass"
   ]
  },
  {
   "cell_type": "code",
   "execution_count": null,
   "metadata": {
    "collapsed": true
   },
   "outputs": [],
   "source": []
  },
  {
   "cell_type": "code",
   "execution_count": null,
   "metadata": {
    "collapsed": true
   },
   "outputs": [],
   "source": []
  }
 ],
 "metadata": {
  "kernelspec": {
   "display_name": "Python 3",
   "language": "python",
   "name": "python3"
  },
  "language_info": {
   "codemirror_mode": {
    "name": "ipython",
    "version": 3
   },
   "file_extension": ".py",
   "mimetype": "text/x-python",
   "name": "python",
   "nbconvert_exporter": "python",
   "pygments_lexer": "ipython3",
   "version": "3.6.1"
  }
 },
 "nbformat": 4,
 "nbformat_minor": 2
}
